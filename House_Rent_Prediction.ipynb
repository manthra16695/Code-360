{
  "nbformat": 4,
  "nbformat_minor": 0,
  "metadata": {
    "colab": {
      "name": "House-Rent-Prediction.ipynb",
      "provenance": [],
      "authorship_tag": "ABX9TyNqeh+fbAdUvGF8sI/izDHj",
      "include_colab_link": true
    },
    "kernelspec": {
      "name": "python3",
      "display_name": "Python 3"
    },
    "language_info": {
      "name": "python"
    }
  },
  "cells": [
    {
      "cell_type": "markdown",
      "metadata": {
        "id": "view-in-github",
        "colab_type": "text"
      },
      "source": [
        "<a href=\"https://colab.research.google.com/github/manthra16695/Code-360/blob/main/House_Rent_Prediction.ipynb\" target=\"_parent\"><img src=\"https://colab.research.google.com/assets/colab-badge.svg\" alt=\"Open In Colab\"/></a>"
      ]
    },
    {
      "cell_type": "markdown",
      "metadata": {
        "id": "iu7Hv7G97RsE"
      },
      "source": [
        "Import Dataset using Pandas"
      ]
    },
    {
      "cell_type": "code",
      "metadata": {
        "id": "00s6S-nP6vU8"
      },
      "source": [
        "import pandas as pd\n",
        "data=pd.read_csv('/content/sample_data/rental_data _reg.csv')"
      ],
      "execution_count": 27,
      "outputs": []
    },
    {
      "cell_type": "markdown",
      "metadata": {
        "id": "M2UAsqGY7rIN"
      },
      "source": [
        "Data Cleaning"
      ]
    },
    {
      "cell_type": "code",
      "metadata": {
        "colab": {
          "base_uri": "https://localhost:8080/",
          "height": 204
        },
        "id": "fLxdzQ8J7vSJ",
        "outputId": "f10c7ecc-2185-4367-a5a2-81160a9b6f53"
      },
      "source": [
        "##Removing variables which has no significance in our model\n",
        "data=data.drop(labels=['Unnamed: 0','link','result-hood','title'],axis=1)\n",
        "data.head() "
      ],
      "execution_count": 28,
      "outputs": [
        {
          "output_type": "execute_result",
          "data": {
            "text/html": [
              "<div>\n",
              "<style scoped>\n",
              "    .dataframe tbody tr th:only-of-type {\n",
              "        vertical-align: middle;\n",
              "    }\n",
              "\n",
              "    .dataframe tbody tr th {\n",
              "        vertical-align: top;\n",
              "    }\n",
              "\n",
              "    .dataframe thead th {\n",
              "        text-align: right;\n",
              "    }\n",
              "</style>\n",
              "<table border=\"1\" class=\"dataframe\">\n",
              "  <thead>\n",
              "    <tr style=\"text-align: right;\">\n",
              "      <th></th>\n",
              "      <th>br</th>\n",
              "      <th>region</th>\n",
              "      <th>result-price</th>\n",
              "      <th>sqft</th>\n",
              "      <th>type</th>\n",
              "    </tr>\n",
              "  </thead>\n",
              "  <tbody>\n",
              "    <tr>\n",
              "      <th>0</th>\n",
              "      <td>3.0</td>\n",
              "      <td>tampa bay area</td>\n",
              "      <td>$1,695</td>\n",
              "      <td>NaN</td>\n",
              "      <td>apartment</td>\n",
              "    </tr>\n",
              "    <tr>\n",
              "      <th>1</th>\n",
              "      <td>2.0</td>\n",
              "      <td>tampa bay area</td>\n",
              "      <td>$1,390</td>\n",
              "      <td>1182.0</td>\n",
              "      <td>apartment</td>\n",
              "    </tr>\n",
              "    <tr>\n",
              "      <th>2</th>\n",
              "      <td>2.0</td>\n",
              "      <td>tampa bay area</td>\n",
              "      <td>$14,901,795</td>\n",
              "      <td>1101.0</td>\n",
              "      <td>apartment</td>\n",
              "    </tr>\n",
              "    <tr>\n",
              "      <th>3</th>\n",
              "      <td>2.0</td>\n",
              "      <td>tampa bay area</td>\n",
              "      <td>$1,285</td>\n",
              "      <td>1025.0</td>\n",
              "      <td>apartment</td>\n",
              "    </tr>\n",
              "    <tr>\n",
              "      <th>4</th>\n",
              "      <td>2.0</td>\n",
              "      <td>tampa bay area</td>\n",
              "      <td>$1,379</td>\n",
              "      <td>1028.0</td>\n",
              "      <td>apartment</td>\n",
              "    </tr>\n",
              "  </tbody>\n",
              "</table>\n",
              "</div>"
            ],
            "text/plain": [
              "    br          region  result-price    sqft       type\n",
              "0  3.0  tampa bay area       $1,695      NaN  apartment\n",
              "1  2.0  tampa bay area       $1,390   1182.0  apartment\n",
              "2  2.0  tampa bay area  $14,901,795   1101.0  apartment\n",
              "3  2.0  tampa bay area       $1,285   1025.0  apartment\n",
              "4  2.0  tampa bay area       $1,379   1028.0  apartment"
            ]
          },
          "metadata": {
            "tags": []
          },
          "execution_count": 28
        }
      ]
    },
    {
      "cell_type": "code",
      "metadata": {
        "colab": {
          "base_uri": "https://localhost:8080/"
        },
        "id": "0QQE2cAn96PN",
        "outputId": "f383ce80-4fa2-4d58-bdf0-daa2dbe72a73"
      },
      "source": [
        "data.dtypes\n",
        "data.isnull().sum()## There are 3549 NA values in sqft column and 417 NA values in Bedrooms column"
      ],
      "execution_count": 29,
      "outputs": [
        {
          "output_type": "execute_result",
          "data": {
            "text/plain": [
              "br               417\n",
              "region             0\n",
              "result-price       0\n",
              "sqft            3549\n",
              "type               0\n",
              "dtype: int64"
            ]
          },
          "metadata": {
            "tags": []
          },
          "execution_count": 29
        }
      ]
    },
    {
      "cell_type": "code",
      "metadata": {
        "colab": {
          "base_uri": "https://localhost:8080/"
        },
        "id": "tlieYjzWDqCs",
        "outputId": "a9b60e2e-19af-4eb9-9d96-43f76165e238"
      },
      "source": [
        "##Dropping records with atleast one of thier columns with NA value\n",
        "data=data.dropna(how='any')\n",
        "data.count()"
      ],
      "execution_count": 30,
      "outputs": [
        {
          "output_type": "execute_result",
          "data": {
            "text/plain": [
              "br              11268\n",
              "region          11268\n",
              "result-price    11268\n",
              "sqft            11268\n",
              "type            11268\n",
              "dtype: int64"
            ]
          },
          "metadata": {
            "tags": []
          },
          "execution_count": 30
        }
      ]
    },
    {
      "cell_type": "code",
      "metadata": {
        "colab": {
          "base_uri": "https://localhost:8080/"
        },
        "id": "i3Ulzyz9-N2s",
        "outputId": "dbcb694d-78a2-4674-fa2c-c25f9d9c7bf6"
      },
      "source": [
        "##Converting the variable data types into relevant ones\n",
        "data['br']=data['br'].astype({\"br\":object})\n",
        "data.dtypes"
      ],
      "execution_count": 31,
      "outputs": [
        {
          "output_type": "execute_result",
          "data": {
            "text/plain": [
              "br               object\n",
              "region           object\n",
              "result-price     object\n",
              "sqft            float64\n",
              "type             object\n",
              "dtype: object"
            ]
          },
          "metadata": {
            "tags": []
          },
          "execution_count": 31
        }
      ]
    },
    {
      "cell_type": "code",
      "metadata": {
        "id": "OvqEo09fHVxa"
      },
      "source": [
        "##Converting price into int by converting $ symbol data as regular expression\n",
        "data['result-price']=data['result-price'].str.replace('[\\$,]','',regex=True).astype('int')"
      ],
      "execution_count": 32,
      "outputs": []
    },
    {
      "cell_type": "markdown",
      "metadata": {
        "id": "Bg48C4MEHhvb"
      },
      "source": [
        "Exploratory Data Analysis"
      ]
    },
    {
      "cell_type": "code",
      "metadata": {
        "id": "72-vCNQXHnPt"
      },
      "source": [
        "import matplotlib.pyplot as plt\n",
        "import seaborn as sns\n",
        "\n",
        "# numericaldata=data[['result-price','sqft']]\n",
        "# plt.plot(data['sqft'],data['result-price'])\n",
        "# data['sqft']\n",
        "# data['result-price']\n",
        "# sq=int(data['sqft'])\n",
        "# sns.regplot(sq,data['result-price'])\n",
        "sns.pairplot(data=data,vars=['sqft','result-price'])"
      ],
      "execution_count": null,
      "outputs": []
    },
    {
      "cell_type": "code",
      "metadata": {
        "id": "AmBjq9UiUMIj"
      },
      "source": [
        "data['result-price']"
      ],
      "execution_count": null,
      "outputs": []
    }
  ]
}