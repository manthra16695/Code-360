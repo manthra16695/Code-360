{
  "nbformat": 4,
  "nbformat_minor": 0,
  "metadata": {
    "colab": {
      "name": "Manipal_Hospitals.ipynb",
      "provenance": [],
      "authorship_tag": "ABX9TyNfPbjuffFlC4+NOEYiaFBv",
      "include_colab_link": true
    },
    "kernelspec": {
      "name": "python3",
      "display_name": "Python 3"
    }
  },
  "cells": [
    {
      "cell_type": "markdown",
      "metadata": {
        "id": "view-in-github",
        "colab_type": "text"
      },
      "source": [
        "<a href=\"https://colab.research.google.com/github/manthra16695/Code-360/blob/main/Manipal_Hospitals.ipynb\" target=\"_parent\"><img src=\"https://colab.research.google.com/assets/colab-badge.svg\" alt=\"Open In Colab\"/></a>"
      ]
    },
    {
      "cell_type": "code",
      "metadata": {
        "id": "Y8obxIfAt2aj"
      },
      "source": [
        "import pandas as pd\r\n",
        "data=pd.read_csv('/content/sample_data/Manipal_Train.csv')"
      ],
      "execution_count": 1,
      "outputs": []
    },
    {
      "cell_type": "code",
      "metadata": {
        "colab": {
          "base_uri": "https://localhost:8080/",
          "height": 241
        },
        "id": "v-LSY7aVVeb3",
        "outputId": "9827e833-5d31-4b69-9e22-129a47fff10d"
      },
      "source": [
        "data.head()"
      ],
      "execution_count": 2,
      "outputs": [
        {
          "output_type": "execute_result",
          "data": {
            "text/html": [
              "<div>\n",
              "<style scoped>\n",
              "    .dataframe tbody tr th:only-of-type {\n",
              "        vertical-align: middle;\n",
              "    }\n",
              "\n",
              "    .dataframe tbody tr th {\n",
              "        vertical-align: top;\n",
              "    }\n",
              "\n",
              "    .dataframe thead th {\n",
              "        text-align: right;\n",
              "    }\n",
              "</style>\n",
              "<table border=\"1\" class=\"dataframe\">\n",
              "  <thead>\n",
              "    <tr style=\"text-align: right;\">\n",
              "      <th></th>\n",
              "      <th>SN</th>\n",
              "      <th>HospitalNo2</th>\n",
              "      <th>MaritalStatus</th>\n",
              "      <th>AgeYrs</th>\n",
              "      <th>Sex</th>\n",
              "      <th>BedCategory</th>\n",
              "      <th>Department</th>\n",
              "      <th>Estimatedcost</th>\n",
              "      <th>InsPayorcategory</th>\n",
              "      <th>State</th>\n",
              "      <th>Country</th>\n",
              "      <th>STATEZONE</th>\n",
              "      <th>CE_ACCESSIBILITY</th>\n",
              "      <th>CE_CSAT</th>\n",
              "      <th>CE_VALUEFORMONEY</th>\n",
              "      <th>EM_IMMEDIATEATTENTION</th>\n",
              "      <th>EM_NURSING</th>\n",
              "      <th>EM_DOCTOR</th>\n",
              "      <th>EM_OVERALL</th>\n",
              "      <th>AD_TIME</th>\n",
              "      <th>AD_TARRIFFPACKAGESEXPLAINATION</th>\n",
              "      <th>AD_STAFFATTITUDE</th>\n",
              "      <th>INR_ROOMCLEANLINESS</th>\n",
              "      <th>INR_ROOMPEACE</th>\n",
              "      <th>INR_ROOMEQUIPMENT</th>\n",
              "      <th>INR_ROOMAMBIENCE</th>\n",
              "      <th>FNB_FOODQUALITY</th>\n",
              "      <th>FNB_FOODDELIVERYTIME</th>\n",
              "      <th>FNB_DIETICIAN</th>\n",
              "      <th>FNB_STAFFATTITUDE</th>\n",
              "      <th>AE_ATTENDEECARE</th>\n",
              "      <th>AE_PATIENTSTATUSINFO</th>\n",
              "      <th>AE_ATTENDEEFOOD</th>\n",
              "      <th>DOC_TREATMENTEXPLAINATION</th>\n",
              "      <th>DOC_ATTITUDE</th>\n",
              "      <th>DOC_VISITS</th>\n",
              "      <th>DOC_TREATMENTEFFECTIVENESS</th>\n",
              "      <th>NS_CALLBELLRESPONSE</th>\n",
              "      <th>NS_NURSESATTITUDE</th>\n",
              "      <th>NS_NURSEPROACTIVENESS</th>\n",
              "      <th>NS_NURSEPATIENCE</th>\n",
              "      <th>OVS_OVERALLSTAFFATTITUDE</th>\n",
              "      <th>OVS_OVERALLSTAFFPROMPTNESS</th>\n",
              "      <th>OVS_SECURITYATTITUDE</th>\n",
              "      <th>DP_DISCHARGETIME</th>\n",
              "      <th>DP_DISCHARGEQUERIES</th>\n",
              "      <th>DP_DISCHARGEPROCESS</th>\n",
              "      <th>AdmissionDate</th>\n",
              "      <th>DischargeDate</th>\n",
              "      <th>LengthofStay</th>\n",
              "      <th>CE_NPS</th>\n",
              "      <th>NPS_Status</th>\n",
              "    </tr>\n",
              "  </thead>\n",
              "  <tbody>\n",
              "    <tr>\n",
              "      <th>0</th>\n",
              "      <td>1</td>\n",
              "      <td>35236</td>\n",
              "      <td>Single</td>\n",
              "      <td>4.0</td>\n",
              "      <td>F</td>\n",
              "      <td>SPECIAL</td>\n",
              "      <td>PEDIATRIC</td>\n",
              "      <td>25000.0</td>\n",
              "      <td>PATIENT</td>\n",
              "      <td>Karnataka</td>\n",
              "      <td>INDIA</td>\n",
              "      <td>SOUTH</td>\n",
              "      <td>4</td>\n",
              "      <td>4</td>\n",
              "      <td>4</td>\n",
              "      <td>4</td>\n",
              "      <td>4</td>\n",
              "      <td>4</td>\n",
              "      <td>4</td>\n",
              "      <td>4</td>\n",
              "      <td>4</td>\n",
              "      <td>4</td>\n",
              "      <td>4</td>\n",
              "      <td>4</td>\n",
              "      <td>4</td>\n",
              "      <td>4</td>\n",
              "      <td>2</td>\n",
              "      <td>4</td>\n",
              "      <td>2</td>\n",
              "      <td>4</td>\n",
              "      <td>4</td>\n",
              "      <td>4</td>\n",
              "      <td>3</td>\n",
              "      <td>4</td>\n",
              "      <td>4</td>\n",
              "      <td>4</td>\n",
              "      <td>4</td>\n",
              "      <td>4</td>\n",
              "      <td>4</td>\n",
              "      <td>4</td>\n",
              "      <td>4</td>\n",
              "      <td>4</td>\n",
              "      <td>4</td>\n",
              "      <td>4</td>\n",
              "      <td>4</td>\n",
              "      <td>4</td>\n",
              "      <td>4</td>\n",
              "      <td>7/18/2014</td>\n",
              "      <td>7/21/2014</td>\n",
              "      <td>3</td>\n",
              "      <td>9</td>\n",
              "      <td>Promotor</td>\n",
              "    </tr>\n",
              "    <tr>\n",
              "      <th>1</th>\n",
              "      <td>2</td>\n",
              "      <td>35237</td>\n",
              "      <td>Single</td>\n",
              "      <td>13.0</td>\n",
              "      <td>F</td>\n",
              "      <td>SPECIAL</td>\n",
              "      <td>PEDIATRIC</td>\n",
              "      <td>15000.0</td>\n",
              "      <td>PATIENT</td>\n",
              "      <td>Karnataka</td>\n",
              "      <td>INDIA</td>\n",
              "      <td>SOUTH</td>\n",
              "      <td>4</td>\n",
              "      <td>4</td>\n",
              "      <td>4</td>\n",
              "      <td>4</td>\n",
              "      <td>4</td>\n",
              "      <td>4</td>\n",
              "      <td>4</td>\n",
              "      <td>4</td>\n",
              "      <td>4</td>\n",
              "      <td>4</td>\n",
              "      <td>4</td>\n",
              "      <td>4</td>\n",
              "      <td>4</td>\n",
              "      <td>4</td>\n",
              "      <td>4</td>\n",
              "      <td>4</td>\n",
              "      <td>4</td>\n",
              "      <td>4</td>\n",
              "      <td>4</td>\n",
              "      <td>4</td>\n",
              "      <td>4</td>\n",
              "      <td>4</td>\n",
              "      <td>4</td>\n",
              "      <td>4</td>\n",
              "      <td>4</td>\n",
              "      <td>4</td>\n",
              "      <td>4</td>\n",
              "      <td>4</td>\n",
              "      <td>4</td>\n",
              "      <td>4</td>\n",
              "      <td>4</td>\n",
              "      <td>4</td>\n",
              "      <td>4</td>\n",
              "      <td>4</td>\n",
              "      <td>4</td>\n",
              "      <td>7/11/2014</td>\n",
              "      <td>7/16/2014</td>\n",
              "      <td>5</td>\n",
              "      <td>10</td>\n",
              "      <td>Promotor</td>\n",
              "    </tr>\n",
              "    <tr>\n",
              "      <th>2</th>\n",
              "      <td>3</td>\n",
              "      <td>35234</td>\n",
              "      <td>Married</td>\n",
              "      <td>33.0</td>\n",
              "      <td>F</td>\n",
              "      <td>SEMISPECIAL</td>\n",
              "      <td>GYNAEC</td>\n",
              "      <td>70000.0</td>\n",
              "      <td>EXEMPTION</td>\n",
              "      <td>Karnataka</td>\n",
              "      <td>INDIA</td>\n",
              "      <td>SOUTH</td>\n",
              "      <td>3</td>\n",
              "      <td>2</td>\n",
              "      <td>2</td>\n",
              "      <td>4</td>\n",
              "      <td>4</td>\n",
              "      <td>4</td>\n",
              "      <td>4</td>\n",
              "      <td>3</td>\n",
              "      <td>3</td>\n",
              "      <td>4</td>\n",
              "      <td>3</td>\n",
              "      <td>3</td>\n",
              "      <td>3</td>\n",
              "      <td>3</td>\n",
              "      <td>2</td>\n",
              "      <td>3</td>\n",
              "      <td>3</td>\n",
              "      <td>4</td>\n",
              "      <td>4</td>\n",
              "      <td>4</td>\n",
              "      <td>3</td>\n",
              "      <td>4</td>\n",
              "      <td>4</td>\n",
              "      <td>4</td>\n",
              "      <td>4</td>\n",
              "      <td>4</td>\n",
              "      <td>4</td>\n",
              "      <td>4</td>\n",
              "      <td>4</td>\n",
              "      <td>4</td>\n",
              "      <td>4</td>\n",
              "      <td>4</td>\n",
              "      <td>3</td>\n",
              "      <td>4</td>\n",
              "      <td>3</td>\n",
              "      <td>6/17/2014</td>\n",
              "      <td>7/20/2014</td>\n",
              "      <td>33</td>\n",
              "      <td>7</td>\n",
              "      <td>Passive</td>\n",
              "    </tr>\n",
              "    <tr>\n",
              "      <th>3</th>\n",
              "      <td>4</td>\n",
              "      <td>35232</td>\n",
              "      <td>Married</td>\n",
              "      <td>51.0</td>\n",
              "      <td>F</td>\n",
              "      <td>SPECIAL</td>\n",
              "      <td>GYNAEC</td>\n",
              "      <td>150000.0</td>\n",
              "      <td>PATIENT</td>\n",
              "      <td>West Bengal</td>\n",
              "      <td>INDIA</td>\n",
              "      <td>EAST</td>\n",
              "      <td>4</td>\n",
              "      <td>4</td>\n",
              "      <td>3</td>\n",
              "      <td>4</td>\n",
              "      <td>4</td>\n",
              "      <td>4</td>\n",
              "      <td>4</td>\n",
              "      <td>4</td>\n",
              "      <td>4</td>\n",
              "      <td>4</td>\n",
              "      <td>3</td>\n",
              "      <td>4</td>\n",
              "      <td>4</td>\n",
              "      <td>3</td>\n",
              "      <td>3</td>\n",
              "      <td>4</td>\n",
              "      <td>4</td>\n",
              "      <td>4</td>\n",
              "      <td>3</td>\n",
              "      <td>4</td>\n",
              "      <td>3</td>\n",
              "      <td>4</td>\n",
              "      <td>4</td>\n",
              "      <td>4</td>\n",
              "      <td>4</td>\n",
              "      <td>4</td>\n",
              "      <td>4</td>\n",
              "      <td>3</td>\n",
              "      <td>4</td>\n",
              "      <td>4</td>\n",
              "      <td>3</td>\n",
              "      <td>3</td>\n",
              "      <td>3</td>\n",
              "      <td>4</td>\n",
              "      <td>3</td>\n",
              "      <td>7/16/2014</td>\n",
              "      <td>7/22/2014</td>\n",
              "      <td>6</td>\n",
              "      <td>10</td>\n",
              "      <td>Promotor</td>\n",
              "    </tr>\n",
              "    <tr>\n",
              "      <th>4</th>\n",
              "      <td>5</td>\n",
              "      <td>35233</td>\n",
              "      <td>Married</td>\n",
              "      <td>31.0</td>\n",
              "      <td>F</td>\n",
              "      <td>SPECIAL</td>\n",
              "      <td>GYNAEC</td>\n",
              "      <td>100000.0</td>\n",
              "      <td>INSURANCE</td>\n",
              "      <td>Karnataka</td>\n",
              "      <td>INDIA</td>\n",
              "      <td>SOUTH</td>\n",
              "      <td>4</td>\n",
              "      <td>4</td>\n",
              "      <td>4</td>\n",
              "      <td>4</td>\n",
              "      <td>4</td>\n",
              "      <td>4</td>\n",
              "      <td>4</td>\n",
              "      <td>4</td>\n",
              "      <td>4</td>\n",
              "      <td>4</td>\n",
              "      <td>4</td>\n",
              "      <td>4</td>\n",
              "      <td>4</td>\n",
              "      <td>4</td>\n",
              "      <td>4</td>\n",
              "      <td>4</td>\n",
              "      <td>4</td>\n",
              "      <td>4</td>\n",
              "      <td>4</td>\n",
              "      <td>4</td>\n",
              "      <td>4</td>\n",
              "      <td>4</td>\n",
              "      <td>4</td>\n",
              "      <td>4</td>\n",
              "      <td>4</td>\n",
              "      <td>4</td>\n",
              "      <td>4</td>\n",
              "      <td>4</td>\n",
              "      <td>4</td>\n",
              "      <td>4</td>\n",
              "      <td>4</td>\n",
              "      <td>4</td>\n",
              "      <td>4</td>\n",
              "      <td>4</td>\n",
              "      <td>4</td>\n",
              "      <td>7/13/2014</td>\n",
              "      <td>7/16/2014</td>\n",
              "      <td>3</td>\n",
              "      <td>10</td>\n",
              "      <td>Promotor</td>\n",
              "    </tr>\n",
              "  </tbody>\n",
              "</table>\n",
              "</div>"
            ],
            "text/plain": [
              "   SN  HospitalNo2 MaritalStatus  ...  LengthofStay CE_NPS NPS_Status\n",
              "0   1        35236        Single  ...             3      9   Promotor\n",
              "1   2        35237        Single  ...             5     10   Promotor\n",
              "2   3        35234       Married  ...            33      7    Passive\n",
              "3   4        35232       Married  ...             6     10   Promotor\n",
              "4   5        35233       Married  ...             3     10   Promotor\n",
              "\n",
              "[5 rows x 52 columns]"
            ]
          },
          "metadata": {
            "tags": []
          },
          "execution_count": 2
        }
      ]
    },
    {
      "cell_type": "code",
      "metadata": {
        "colab": {
          "base_uri": "https://localhost:8080/"
        },
        "id": "zYHNQfkbVDh8",
        "outputId": "d14391b6-dd31-4584-edc0-ae61eff63c33"
      },
      "source": [
        "data.isnull().sum()"
      ],
      "execution_count": null,
      "outputs": [
        {
          "output_type": "execute_result",
          "data": {
            "text/plain": [
              "SN                                0\n",
              "HospitalNo2                       0\n",
              "MaritalStatus                     0\n",
              "AgeYrs                            0\n",
              "Sex                               0\n",
              "BedCategory                       0\n",
              "Department                        0\n",
              "Estimatedcost                     0\n",
              "InsPayorcategory                  0\n",
              "State                             0\n",
              "Country                           0\n",
              "STATEZONE                         0\n",
              "CE_ACCESSIBILITY                  0\n",
              "CE_CSAT                           0\n",
              "CE_VALUEFORMONEY                  0\n",
              "EM_IMMEDIATEATTENTION             0\n",
              "EM_NURSING                        0\n",
              "EM_DOCTOR                         0\n",
              "EM_OVERALL                        0\n",
              "AD_TIME                           0\n",
              "AD_TARRIFFPACKAGESEXPLAINATION    0\n",
              "AD_STAFFATTITUDE                  0\n",
              "INR_ROOMCLEANLINESS               0\n",
              "INR_ROOMPEACE                     0\n",
              "INR_ROOMEQUIPMENT                 0\n",
              "INR_ROOMAMBIENCE                  0\n",
              "FNB_FOODQUALITY                   0\n",
              "FNB_FOODDELIVERYTIME              0\n",
              "FNB_DIETICIAN                     0\n",
              "FNB_STAFFATTITUDE                 0\n",
              "AE_ATTENDEECARE                   0\n",
              "AE_PATIENTSTATUSINFO              0\n",
              "AE_ATTENDEEFOOD                   0\n",
              "DOC_TREATMENTEXPLAINATION         0\n",
              "DOC_ATTITUDE                      0\n",
              "DOC_VISITS                        0\n",
              "DOC_TREATMENTEFFECTIVENESS        0\n",
              "NS_CALLBELLRESPONSE               0\n",
              "NS_NURSESATTITUDE                 0\n",
              "NS_NURSEPROACTIVENESS             0\n",
              "NS_NURSEPATIENCE                  0\n",
              "OVS_OVERALLSTAFFATTITUDE          0\n",
              "OVS_OVERALLSTAFFPROMPTNESS        0\n",
              "OVS_SECURITYATTITUDE              0\n",
              "DP_DISCHARGETIME                  0\n",
              "DP_DISCHARGEQUERIES               0\n",
              "DP_DISCHARGEPROCESS               0\n",
              "AdmissionDate                     0\n",
              "DischargeDate                     0\n",
              "LengthofStay                      0\n",
              "CE_NPS                            0\n",
              "NPS_Status                        0\n",
              "dtype: int64"
            ]
          },
          "metadata": {
            "tags": []
          },
          "execution_count": 64
        }
      ]
    },
    {
      "cell_type": "code",
      "metadata": {
        "id": "orhb5gQjUvgr"
      },
      "source": [
        "data=data.drop(['SN','HospitalNo2'],axis=1)\r\n"
      ],
      "execution_count": 3,
      "outputs": []
    },
    {
      "cell_type": "code",
      "metadata": {
        "id": "_Tvskbn4WwlI"
      },
      "source": [
        "catlist=['MaritalStatus','Sex','BedCategory','Department','InsPayorcategory','State','Country','STATEZONE']\r\n",
        "numlist=['AgeYrs','Estimatedcost','LengthofStay','CE_NPS']\r\n",
        "\r\n",
        "for i in numlist:\r\n",
        "  data[i]=data[i].astype('int')\r\n",
        "\r\n",
        "\r\n"
      ],
      "execution_count": 4,
      "outputs": []
    },
    {
      "cell_type": "code",
      "metadata": {
        "id": "NlpuE1mlh62I"
      },
      "source": [
        "##To Segregate Numeric and Categorical variables\r\n",
        "ls=list(data.columns.values)\r\n",
        "\r\n",
        "for i in ls:\r\n",
        "  if i in numlist:\r\n",
        "    ls.remove(i)"
      ],
      "execution_count": 5,
      "outputs": []
    },
    {
      "cell_type": "code",
      "metadata": {
        "id": "-Rb8z3ozjphf"
      },
      "source": [
        "for i in ls:\r\n",
        "  data[i]=data[i].astype('object')\r\n",
        "# data['MaritalStatus']=data['MaritalStatus'].astype('category')"
      ],
      "execution_count": 6,
      "outputs": []
    },
    {
      "cell_type": "code",
      "metadata": {
        "id": "h0wbDGlDj-Yf"
      },
      "source": [
        "data['AdmissionDate']=pd.to_datetime(data['AdmissionDate'])\r\n",
        "data['DischargeDate']=pd.to_datetime(data['DischargeDate'])"
      ],
      "execution_count": 7,
      "outputs": []
    },
    {
      "cell_type": "code",
      "metadata": {
        "colab": {
          "base_uri": "https://localhost:8080/"
        },
        "id": "b073oalnoaZC",
        "outputId": "bd3b3463-0778-4284-9d2a-d9e4442597a0"
      },
      "source": [
        "import numpy as np\r\n",
        "\r\n",
        "for columns in ls:\r\n",
        "  unique_vals=np.unique(data[columns])\r\n",
        "  nr_value=len(unique_vals)\r\n",
        "  if nr_value<20:\r\n",
        "    print('The Number of values for feature {} is {} and the unique values are {}'.format(columns,nr_value, unique_vals))"
      ],
      "execution_count": 8,
      "outputs": [
        {
          "output_type": "stream",
          "text": [
            "The Number of values for feature MaritalStatus is 5 and the unique values are ['Divorced' 'Married' 'Separated' 'Single' 'Widowed']\n",
            "The Number of values for feature Sex is 2 and the unique values are ['F' 'M']\n",
            "The Number of values for feature BedCategory is 11 and the unique values are ['CCU' 'DAYCARE' 'GENERAL' 'GENERAL HD' 'ITU' 'Renal ICU' 'SEMISPECIAL'\n",
            " 'SEMISPECIAL HD' 'SPECIAL' 'ULTRA DLX' 'ULTRA SPL']\n",
            "The Number of values for feature Department is 7 and the unique values are ['CARDIOLOGY' 'GEN' 'GYNAEC' 'ORTHO' 'PEDIATRIC' 'RENAL' 'SPECIAL']\n",
            "The Number of values for feature InsPayorcategory is 5 and the unique values are ['CORPORATE' 'EXEMPTION' 'INSURANCE' 'INTERNATIONAL' 'PATIENT']\n",
            "The Number of values for feature STATEZONE is 7 and the unique values are ['CENTRAL' 'EAST' 'INTERNATIONAL' 'NORTH' 'SOUTH' 'Unknown' 'WEST']\n",
            "The Number of values for feature CE_ACCESSIBILITY is 4 and the unique values are [1 2 3 4]\n",
            "The Number of values for feature CE_CSAT is 4 and the unique values are [1 2 3 4]\n",
            "The Number of values for feature CE_VALUEFORMONEY is 4 and the unique values are [1 2 3 4]\n",
            "The Number of values for feature EM_IMMEDIATEATTENTION is 4 and the unique values are [1 2 3 4]\n",
            "The Number of values for feature EM_NURSING is 4 and the unique values are [1 2 3 4]\n",
            "The Number of values for feature EM_DOCTOR is 4 and the unique values are [1 2 3 4]\n",
            "The Number of values for feature EM_OVERALL is 4 and the unique values are [1 2 3 4]\n",
            "The Number of values for feature AD_TIME is 4 and the unique values are [1 2 3 4]\n",
            "The Number of values for feature AD_TARRIFFPACKAGESEXPLAINATION is 4 and the unique values are [1 2 3 4]\n",
            "The Number of values for feature AD_STAFFATTITUDE is 4 and the unique values are [1 2 3 4]\n",
            "The Number of values for feature INR_ROOMCLEANLINESS is 4 and the unique values are [1 2 3 4]\n",
            "The Number of values for feature INR_ROOMPEACE is 4 and the unique values are [1 2 3 4]\n",
            "The Number of values for feature INR_ROOMEQUIPMENT is 4 and the unique values are [1 2 3 4]\n",
            "The Number of values for feature INR_ROOMAMBIENCE is 4 and the unique values are [1 2 3 4]\n",
            "The Number of values for feature FNB_FOODQUALITY is 4 and the unique values are [1 2 3 4]\n",
            "The Number of values for feature FNB_FOODDELIVERYTIME is 4 and the unique values are [1 2 3 4]\n",
            "The Number of values for feature FNB_DIETICIAN is 4 and the unique values are [1 2 3 4]\n",
            "The Number of values for feature FNB_STAFFATTITUDE is 4 and the unique values are [1 2 3 4]\n",
            "The Number of values for feature AE_ATTENDEECARE is 4 and the unique values are [1 2 3 4]\n",
            "The Number of values for feature AE_PATIENTSTATUSINFO is 4 and the unique values are [1 2 3 4]\n",
            "The Number of values for feature AE_ATTENDEEFOOD is 4 and the unique values are [1 2 3 4]\n",
            "The Number of values for feature DOC_TREATMENTEXPLAINATION is 4 and the unique values are [1 2 3 4]\n",
            "The Number of values for feature DOC_ATTITUDE is 4 and the unique values are [1 2 3 4]\n",
            "The Number of values for feature DOC_VISITS is 4 and the unique values are [1 2 3 4]\n",
            "The Number of values for feature DOC_TREATMENTEFFECTIVENESS is 4 and the unique values are [1 2 3 4]\n",
            "The Number of values for feature NS_CALLBELLRESPONSE is 4 and the unique values are [1 2 3 4]\n",
            "The Number of values for feature NS_NURSESATTITUDE is 4 and the unique values are [1 2 3 4]\n",
            "The Number of values for feature NS_NURSEPROACTIVENESS is 3 and the unique values are [2 3 4]\n",
            "The Number of values for feature NS_NURSEPATIENCE is 4 and the unique values are [1 2 3 4]\n",
            "The Number of values for feature OVS_OVERALLSTAFFATTITUDE is 4 and the unique values are [1 2 3 4]\n",
            "The Number of values for feature OVS_OVERALLSTAFFPROMPTNESS is 4 and the unique values are [1 2 3 4]\n",
            "The Number of values for feature OVS_SECURITYATTITUDE is 4 and the unique values are [1 2 3 4]\n",
            "The Number of values for feature DP_DISCHARGETIME is 4 and the unique values are [1 2 3 4]\n",
            "The Number of values for feature DP_DISCHARGEQUERIES is 4 and the unique values are [1 2 3 4]\n",
            "The Number of values for feature DP_DISCHARGEPROCESS is 4 and the unique values are [1 2 3 4]\n",
            "The Number of values for feature CE_NPS is 11 and the unique values are [0 1 2 3 4 5 6 7 8 9 10]\n",
            "The Number of values for feature NPS_Status is 3 and the unique values are ['Detractor' 'Passive' 'Promotor']\n"
          ],
          "name": "stdout"
        }
      ]
    },
    {
      "cell_type": "code",
      "metadata": {
        "colab": {
          "base_uri": "https://localhost:8080/",
          "height": 567
        },
        "id": "eDV41hJxrmNG",
        "outputId": "23436db5-03ea-4c46-88b0-aa0717ea70c9"
      },
      "source": [
        "##Exploratory Data Analysis\r\n",
        "import matplotlib.pyplot as plt\r\n",
        "import seaborn as sns\r\n",
        "\r\n",
        "numericaldata=data[['AgeYrs','Estimatedcost','LengthofStay','NPS_Status']]\r\n",
        "sns.pairplot(numericaldata,hue='NPS_Status')\r\n"
      ],
      "execution_count": 9,
      "outputs": [
        {
          "output_type": "execute_result",
          "data": {
            "text/plain": [
              "<seaborn.axisgrid.PairGrid at 0x7fd15ce0bc50>"
            ]
          },
          "metadata": {
            "tags": []
          },
          "execution_count": 9
        },
        {
          "output_type": "display_data",
          "data": {
            "image/png": "[encoded data removed]",
            "text/plain": [
              "<Figure size 623.5x540 with 12 Axes>"
            ]
          },
          "metadata": {
            "tags": [],
            "needs_background": "light"
          }
        }
      ]
    },
    {
      "cell_type": "code",
      "metadata": {
        "id": "BC507NR_sI_c",
        "colab": {
          "base_uri": "https://localhost:8080/"
        },
        "outputId": "3eb1be51-e836-4494-f200-03097ccf3fdf"
      },
      "source": [
        "data.dtypes"
      ],
      "execution_count": 10,
      "outputs": [
        {
          "output_type": "execute_result",
          "data": {
            "text/plain": [
              "MaritalStatus                             object\n",
              "AgeYrs                                     int64\n",
              "Sex                                       object\n",
              "BedCategory                               object\n",
              "Department                                object\n",
              "Estimatedcost                              int64\n",
              "InsPayorcategory                          object\n",
              "State                                     object\n",
              "Country                                   object\n",
              "STATEZONE                                 object\n",
              "CE_ACCESSIBILITY                          object\n",
              "CE_CSAT                                   object\n",
              "CE_VALUEFORMONEY                          object\n",
              "EM_IMMEDIATEATTENTION                     object\n",
              "EM_NURSING                                object\n",
              "EM_DOCTOR                                 object\n",
              "EM_OVERALL                                object\n",
              "AD_TIME                                   object\n",
              "AD_TARRIFFPACKAGESEXPLAINATION            object\n",
              "AD_STAFFATTITUDE                          object\n",
              "INR_ROOMCLEANLINESS                       object\n",
              "INR_ROOMPEACE                             object\n",
              "INR_ROOMEQUIPMENT                         object\n",
              "INR_ROOMAMBIENCE                          object\n",
              "FNB_FOODQUALITY                           object\n",
              "FNB_FOODDELIVERYTIME                      object\n",
              "FNB_DIETICIAN                             object\n",
              "FNB_STAFFATTITUDE                         object\n",
              "AE_ATTENDEECARE                           object\n",
              "AE_PATIENTSTATUSINFO                      object\n",
              "AE_ATTENDEEFOOD                           object\n",
              "DOC_TREATMENTEXPLAINATION                 object\n",
              "DOC_ATTITUDE                              object\n",
              "DOC_VISITS                                object\n",
              "DOC_TREATMENTEFFECTIVENESS                object\n",
              "NS_CALLBELLRESPONSE                       object\n",
              "NS_NURSESATTITUDE                         object\n",
              "NS_NURSEPROACTIVENESS                     object\n",
              "NS_NURSEPATIENCE                          object\n",
              "OVS_OVERALLSTAFFATTITUDE                  object\n",
              "OVS_OVERALLSTAFFPROMPTNESS                object\n",
              "OVS_SECURITYATTITUDE                      object\n",
              "DP_DISCHARGETIME                          object\n",
              "DP_DISCHARGEQUERIES                       object\n",
              "DP_DISCHARGEPROCESS                       object\n",
              "AdmissionDate                     datetime64[ns]\n",
              "DischargeDate                     datetime64[ns]\n",
              "LengthofStay                               int64\n",
              "CE_NPS                                    object\n",
              "NPS_Status                                object\n",
              "dtype: object"
            ]
          },
          "metadata": {
            "tags": []
          },
          "execution_count": 10
        }
      ]
    },
    {
      "cell_type": "code",
      "metadata": {
        "colab": {
          "base_uri": "https://localhost:8080/",
          "height": 321
        },
        "id": "MkrycZ_dqkv-",
        "outputId": "e57a4f14-9c62-4cf0-8a46-511d76b2a742"
      },
      "source": [
        "## Factor Vs Factor Marital Status and NPS_Status\r\n",
        "\r\n",
        "crosstb=pd.crosstab(data['MaritalStatus'],data['NPS_Status'])\r\n",
        "\r\n",
        "# crosstb=pd.crosstab(data['MaritalStatus'],data['NPS_Status']).apply(lambda r: r/r.sum(), axis=1)\r\n",
        "ax=crosstb.plot(kind='bar',stacked=True,label=True)\r\n",
        "for p in ax.patches:\r\n",
        "    ax.annotate(str(p.get_height()), (p.get_x() * 1.005, p.get_height() * 1.005))"
      ],
      "execution_count": 11,
      "outputs": [
        {
          "output_type": "display_data",
          "data": {
            "image/png": "[encoded data removed]",
            "text/plain": [
              "<Figure size 432x288 with 1 Axes>"
            ]
          },
          "metadata": {
            "tags": [],
            "needs_background": "light"
          }
        }
      ]
    },
    {
      "cell_type": "code",
      "metadata": {
        "colab": {
          "base_uri": "https://localhost:8080/"
        },
        "id": "27H6R0NCoYlS",
        "outputId": "8619396b-2642-447b-8b91-a19bbce5f015"
      },
      "source": [
        "##Chisquared test to check for significance\r\n",
        "from scipy import stats \r\n",
        "\r\n",
        "c,p,dof,expected=stats.chi2_contingency(crosstb)\r\n",
        "p\r\n",
        "##Yes there is significance between Marital Status and NPS_Status"
      ],
      "execution_count": 12,
      "outputs": [
        {
          "output_type": "execute_result",
          "data": {
            "text/plain": [
              "0.0011860281607372464"
            ]
          },
          "metadata": {
            "tags": []
          },
          "execution_count": 12
        }
      ]
    },
    {
      "cell_type": "code",
      "metadata": {
        "colab": {
          "base_uri": "https://localhost:8080/",
          "height": 235
        },
        "id": "YehCOxujPiuB",
        "outputId": "bd2113f8-4432-4d6a-c79e-77019f704be8"
      },
      "source": [
        "crosstb ##64% of Married people seems to like the hospital and are Promotors compared to Singles whiere 59% are promotors"
      ],
      "execution_count": 13,
      "outputs": [
        {
          "output_type": "execute_result",
          "data": {
            "text/html": [
              "<div>\n",
              "<style scoped>\n",
              "    .dataframe tbody tr th:only-of-type {\n",
              "        vertical-align: middle;\n",
              "    }\n",
              "\n",
              "    .dataframe tbody tr th {\n",
              "        vertical-align: top;\n",
              "    }\n",
              "\n",
              "    .dataframe thead th {\n",
              "        text-align: right;\n",
              "    }\n",
              "</style>\n",
              "<table border=\"1\" class=\"dataframe\">\n",
              "  <thead>\n",
              "    <tr style=\"text-align: right;\">\n",
              "      <th>NPS_Status</th>\n",
              "      <th>Detractor</th>\n",
              "      <th>Passive</th>\n",
              "      <th>Promotor</th>\n",
              "    </tr>\n",
              "    <tr>\n",
              "      <th>MaritalStatus</th>\n",
              "      <th></th>\n",
              "      <th></th>\n",
              "      <th></th>\n",
              "    </tr>\n",
              "  </thead>\n",
              "  <tbody>\n",
              "    <tr>\n",
              "      <th>Divorced</th>\n",
              "      <td>1</td>\n",
              "      <td>0</td>\n",
              "      <td>0</td>\n",
              "    </tr>\n",
              "    <tr>\n",
              "      <th>Married</th>\n",
              "      <td>326</td>\n",
              "      <td>869</td>\n",
              "      <td>2196</td>\n",
              "    </tr>\n",
              "    <tr>\n",
              "      <th>Separated</th>\n",
              "      <td>0</td>\n",
              "      <td>0</td>\n",
              "      <td>1</td>\n",
              "    </tr>\n",
              "    <tr>\n",
              "      <th>Single</th>\n",
              "      <td>175</td>\n",
              "      <td>476</td>\n",
              "      <td>941</td>\n",
              "    </tr>\n",
              "    <tr>\n",
              "      <th>Widowed</th>\n",
              "      <td>0</td>\n",
              "      <td>2</td>\n",
              "      <td>2</td>\n",
              "    </tr>\n",
              "  </tbody>\n",
              "</table>\n",
              "</div>"
            ],
            "text/plain": [
              "NPS_Status     Detractor  Passive  Promotor\n",
              "MaritalStatus                              \n",
              "Divorced               1        0         0\n",
              "Married              326      869      2196\n",
              "Separated              0        0         1\n",
              "Single               175      476       941\n",
              "Widowed                0        2         2"
            ]
          },
          "metadata": {
            "tags": []
          },
          "execution_count": 13
        }
      ]
    },
    {
      "cell_type": "code",
      "metadata": {
        "colab": {
          "base_uri": "https://localhost:8080/"
        },
        "id": "lQU0waU4Vdqw",
        "outputId": "056fee7e-470a-4f9e-b890-d86768e65861"
      },
      "source": [
        "\r\n",
        "count=0\r\n",
        "a=[]\r\n",
        "for i in ls:\r\n",
        "  \r\n",
        "  crosstb=pd.crosstab(data[i],data['NPS_Status'])\r\n",
        "  c,p,dof,expected = stats.chi2_contingency(crosstb)\r\n",
        "\r\n",
        "  if p <  0.05:\r\n",
        "    count+=1\r\n",
        "    print('{}Yes! This variable {} has significance with 95% conf with p-value as {} '.format(count,i,p))\r\n",
        "  else:\r\n",
        "    a.append(i)\r\n",
        "##Seems like 45 variables out of 47 have significance at 90% confidence \r\n",
        "##Will perform EDA and Bi-Variate Analysis"
      ],
      "execution_count": 14,
      "outputs": [
        {
          "output_type": "stream",
          "text": [
            "1Yes! This variable MaritalStatus has significance with 95% conf with p-value as 0.0011860281607372464 \n",
            "2Yes! This variable Sex has significance with 95% conf with p-value as 0.026911887890060066 \n",
            "3Yes! This variable BedCategory has significance with 95% conf with p-value as 1.3572007100465888e-08 \n",
            "4Yes! This variable Department has significance with 95% conf with p-value as 4.531334897059869e-07 \n",
            "5Yes! This variable InsPayorcategory has significance with 95% conf with p-value as 4.076085776662428e-13 \n",
            "6Yes! This variable State has significance with 95% conf with p-value as 8.179670103489967e-05 \n",
            "7Yes! This variable Country has significance with 95% conf with p-value as 0.02084693233898609 \n",
            "8Yes! This variable STATEZONE has significance with 95% conf with p-value as 6.226207775935155e-07 \n",
            "9Yes! This variable CE_ACCESSIBILITY has significance with 95% conf with p-value as 8.531344167530348e-181 \n",
            "10Yes! This variable CE_CSAT has significance with 95% conf with p-value as 0.0 \n",
            "11Yes! This variable CE_VALUEFORMONEY has significance with 95% conf with p-value as 0.0 \n",
            "12Yes! This variable EM_IMMEDIATEATTENTION has significance with 95% conf with p-value as 3.141896890772455e-73 \n",
            "13Yes! This variable EM_NURSING has significance with 95% conf with p-value as 1.5796669502407448e-79 \n",
            "14Yes! This variable EM_DOCTOR has significance with 95% conf with p-value as 1.2985001789362918e-69 \n",
            "15Yes! This variable EM_OVERALL has significance with 95% conf with p-value as 2.7613258678544287e-101 \n",
            "16Yes! This variable AD_TIME has significance with 95% conf with p-value as 9.984459378120744e-80 \n",
            "17Yes! This variable AD_TARRIFFPACKAGESEXPLAINATION has significance with 95% conf with p-value as 3.4425454178958043e-128 \n",
            "18Yes! This variable AD_STAFFATTITUDE has significance with 95% conf with p-value as 5.328023230989054e-75 \n",
            "19Yes! This variable INR_ROOMCLEANLINESS has significance with 95% conf with p-value as 7.895038216448066e-82 \n",
            "20Yes! This variable INR_ROOMPEACE has significance with 95% conf with p-value as 2.5051876862729658e-98 \n",
            "21Yes! This variable INR_ROOMEQUIPMENT has significance with 95% conf with p-value as 1.283701764600238e-105 \n",
            "22Yes! This variable INR_ROOMAMBIENCE has significance with 95% conf with p-value as 6.2894912276645574e-127 \n",
            "23Yes! This variable FNB_FOODQUALITY has significance with 95% conf with p-value as 5.27604931983042e-95 \n",
            "24Yes! This variable FNB_FOODDELIVERYTIME has significance with 95% conf with p-value as 1.3006440207688832e-120 \n",
            "25Yes! This variable FNB_DIETICIAN has significance with 95% conf with p-value as 8.902509587277072e-101 \n",
            "26Yes! This variable FNB_STAFFATTITUDE has significance with 95% conf with p-value as 1.6503162128999635e-73 \n",
            "27Yes! This variable AE_ATTENDEECARE has significance with 95% conf with p-value as 3.857133454006624e-102 \n",
            "28Yes! This variable AE_PATIENTSTATUSINFO has significance with 95% conf with p-value as 9.037555315089424e-127 \n",
            "29Yes! This variable AE_ATTENDEEFOOD has significance with 95% conf with p-value as 3.7368127846384184e-124 \n",
            "30Yes! This variable DOC_TREATMENTEXPLAINATION has significance with 95% conf with p-value as 6.200866181774913e-68 \n",
            "31Yes! This variable DOC_ATTITUDE has significance with 95% conf with p-value as 2.9350325159666426e-59 \n",
            "32Yes! This variable DOC_VISITS has significance with 95% conf with p-value as 3.04271200309686e-110 \n",
            "33Yes! This variable DOC_TREATMENTEFFECTIVENESS has significance with 95% conf with p-value as 1.4652564180715529e-81 \n",
            "34Yes! This variable NS_CALLBELLRESPONSE has significance with 95% conf with p-value as 6.023608020113824e-39 \n",
            "35Yes! This variable NS_NURSESATTITUDE has significance with 95% conf with p-value as 7.475382053905102e-37 \n",
            "36Yes! This variable NS_NURSEPROACTIVENESS has significance with 95% conf with p-value as 1.7534719305066387e-63 \n",
            "37Yes! This variable NS_NURSEPATIENCE has significance with 95% conf with p-value as 8.701153947729916e-59 \n",
            "38Yes! This variable OVS_OVERALLSTAFFATTITUDE has significance with 95% conf with p-value as 4.9948778274621155e-67 \n",
            "39Yes! This variable OVS_OVERALLSTAFFPROMPTNESS has significance with 95% conf with p-value as 1.0733699805834408e-98 \n",
            "40Yes! This variable OVS_SECURITYATTITUDE has significance with 95% conf with p-value as 4.6308617744107655e-43 \n",
            "41Yes! This variable DP_DISCHARGETIME has significance with 95% conf with p-value as 1.2613388642395485e-134 \n",
            "42Yes! This variable DP_DISCHARGEQUERIES has significance with 95% conf with p-value as 7.422466316403075e-132 \n",
            "43Yes! This variable DP_DISCHARGEPROCESS has significance with 95% conf with p-value as 1.1416250339749501e-135 \n",
            "44Yes! This variable CE_NPS has significance with 95% conf with p-value as 0.0 \n",
            "45Yes! This variable NPS_Status has significance with 95% conf with p-value as 0.0 \n"
          ],
          "name": "stdout"
        }
      ]
    },
    {
      "cell_type": "code",
      "metadata": {
        "colab": {
          "base_uri": "https://localhost:8080/"
        },
        "id": "IOsBrHBLsY0v",
        "outputId": "29879b2d-1c52-4349-b96f-04b956ed463c"
      },
      "source": [
        "count=0\r\n",
        "b=[]\r\n",
        "for i in numlist:\r\n",
        "  \r\n",
        "  Promotor=data[i][data['NPS_Status']=='Promotor']\r\n",
        "  Passive=data[i][data['NPS_Status']=='Passive']\r\n",
        "  Detractor=data[i][data['NPS_Status']=='Detractor']\r\n",
        "  p_value=stats.f_oneway(Promotor,Passive,Detractor)\r\n",
        "  print(p_value,i)\r\n",
        "##Seems like all the int variables are significant based on ANOVA  "
      ],
      "execution_count": 15,
      "outputs": [
        {
          "output_type": "stream",
          "text": [
            "F_onewayResult(statistic=9.934319804713269, pvalue=4.944850823584424e-05) AgeYrs\n",
            "F_onewayResult(statistic=3.623065193319743, pvalue=0.0267710272383185) Estimatedcost\n",
            "F_onewayResult(statistic=3.9483229407524707, pvalue=0.019347353619054385) LengthofStay\n",
            "F_onewayResult(statistic=10969.497611099176, pvalue=0.0) CE_NPS\n"
          ],
          "name": "stdout"
        }
      ]
    },
    {
      "cell_type": "code",
      "metadata": {
        "colab": {
          "base_uri": "https://localhost:8080/",
          "height": 334
        },
        "id": "1Q_vS9dxXPWj",
        "outputId": "ab4d4821-9feb-41db-f9d4-52b23346879e"
      },
      "source": [
        "##Target Value Distribution\r\n",
        "\r\n",
        "plt.figure()\r\n",
        "plt.subplot(1,2,1)\r\n",
        "plt.pie(data['NPS_Status'].value_counts(),autopct='%3f',startangle=90,labels=['Promotor','Passive','Detractor'],shadow=True)\r\n",
        "\r\n",
        "\r\n",
        "plt.subplot(1,2,2)\r\n",
        "cv=sns.countplot(data['NPS_Status'])\r\n",
        "for p in cv.patches:\r\n",
        "    cv.annotate(str(p.get_height()), (p.get_x() * 1.005, p.get_height() * 1.005))\r\n",
        "\r\n",
        "# # plt.subplot(data['NPS_Status'])\r\n",
        "# plt.pie(data['NPS_Status'].value_counts(),autopct='%3f',startangle=90,labels=['Promotor','Passive','Detractor'],shadow=True)\r\n",
        "# sns.countplot(x=data['NPS_Status'],ax=1)\r\n",
        "\r\n",
        "# fig, axes = plt.subplots(nrows=1, ncols=2, figsize=(5, 3))\r\n",
        "# axes[0].plt.pie(data['NPS_Status'].value_counts(),autopct='%3f',startangle=90,labels=['Promotor','Passive','Detractor'],shadow=True)\r\n",
        "# axes[1].plt.pie(data['NPS_Status'].value_counts(),autopct='%3f',startangle=90,labels=['Promotor','Passive','Detractor'],shadow=True)\r\n",
        "# fig.tight_layout()\r\n",
        "\r\n",
        "# fig, ax =plt.subplots(1,2)\r\n",
        "# sns.countplot(data['NPS_Status'], ax=ax[0])\r\n",
        "# sns.barplot(data['NPS_Status'].count(), ax=ax[1])\r\n",
        "# fig.show()"
      ],
      "execution_count": 16,
      "outputs": [
        {
          "output_type": "stream",
          "text": [
            "/usr/local/lib/python3.6/dist-packages/seaborn/_decorators.py:43: FutureWarning: Pass the following variable as a keyword arg: x. From version 0.12, the only valid positional argument will be `data`, and passing other arguments without an explicit keyword will result in an error or misinterpretation.\n",
            "  FutureWarning\n"
          ],
          "name": "stderr"
        },
        {
          "output_type": "display_data",
          "data": {
            "image/png": "[encoded data removed]",
            "text/plain": [
              "<Figure size 432x288 with 2 Axes>"
            ]
          },
          "metadata": {
            "tags": [],
            "needs_background": "light"
          }
        }
      ]
    },
    {
      "cell_type": "code",
      "metadata": {
        "colab": {
          "base_uri": "https://localhost:8080/",
          "height": 350
        },
        "id": "A39UJu8D50vF",
        "outputId": "c588160e-c08b-4de0-a3ef-7f5330d78467"
      },
      "source": [
        "##Age Years and Target\r\n",
        "\r\n",
        "plt.figure()\r\n",
        "plt.subplot(1,2,1)\r\n",
        "sns.histplot(data['AgeYrs'])\r\n",
        "\r\n",
        "# plt.subplot(1,2,2)\r\n",
        "# sns.distplot(data['AgeYrs'])\r\n",
        "\r\n",
        "plt.subplot(1,2,2)\r\n",
        "sns.boxplot(data['AgeYrs'])"
      ],
      "execution_count": 17,
      "outputs": [
        {
          "output_type": "stream",
          "text": [
            "/usr/local/lib/python3.6/dist-packages/seaborn/_decorators.py:43: FutureWarning: Pass the following variable as a keyword arg: x. From version 0.12, the only valid positional argument will be `data`, and passing other arguments without an explicit keyword will result in an error or misinterpretation.\n",
            "  FutureWarning\n"
          ],
          "name": "stderr"
        },
        {
          "output_type": "execute_result",
          "data": {
            "text/plain": [
              "<matplotlib.axes._subplots.AxesSubplot at 0x7fd142e9abe0>"
            ]
          },
          "metadata": {
            "tags": []
          },
          "execution_count": 17
        },
        {
          "output_type": "display_data",
          "data": {
            "image/png": "[encoded data removed]",
            "text/plain": [
              "<Figure size 432x288 with 2 Axes>"
            ]
          },
          "metadata": {
            "tags": [],
            "needs_background": "light"
          }
        }
      ]
    },
    {
      "cell_type": "code",
      "metadata": {
        "colab": {
          "base_uri": "https://localhost:8080/",
          "height": 542
        },
        "id": "uSgeMcl38XAX",
        "outputId": "b85cc77a-2702-4140-dc3e-5c506e67c680"
      },
      "source": [
        "import plotly.graph_objs as go\r\n",
        "\r\n",
        "fig = go.Figure()\r\n",
        "fig.add_trace(go.Histogram(x=data['AgeYrs']))\r\n",
        "\r\n",
        "loss_90th=data['AgeYrs'].quantile(0.90)\r\n",
        "loss_10th=data['AgeYrs'].quantile(0.10)\r\n",
        "\r\n",
        "fig.add_shape(\r\n",
        "        go.layout.Shape(type='line', xref='x',\r\n",
        "                        x0=loss_90th, y0=0,x1=loss_90th,y1=300, line=dict(\r\n",
        "        color=\"black\",\r\n",
        "        width=1,\r\n",
        "    ))\r\n",
        ")\r\n",
        "\r\n",
        "fig.add_shape(\r\n",
        "        go.layout.Shape(type='line', xref='x',\r\n",
        "                        x0=loss_10th, y0=0,x1=loss_10th,y1=300, line=dict(\r\n",
        "        color=\"black\",\r\n",
        "        width=1,\r\n",
        "    ))\r\n",
        ")\r\n",
        "##80 % of patients are from Age 5 to 70\r\n",
        "##Most likely age range is between 20-40"
      ],
      "execution_count": 18,
      "outputs": [
        {
          "output_type": "display_data",
          "data": {
            "text/html": [
              "<html>\n",
              "<head><meta charset=\"utf-8\" /></head>\n",
              "<body>\n",
              "    <div>\n",
              "            <script src=\"https://cdnjs.cloudflare.com/ajax/libs/mathjax/2.7.5/MathJax.js?config=TeX-AMS-MML_SVG\"></script><script type=\"text/javascript\">if (window.MathJax) {MathJax.Hub.Config({SVG: {font: \"STIX-Web\"}});}</script>\n",
              "                <script type=\"text/javascript\">window.PlotlyConfig = {MathJaxConfig: 'local'};</script>\n",
              "        <script src=\"https://cdn.plot.ly/plotly-latest.min.js\"></script>    \n",
              "            <div id=\"57bc95b7-604d-4cd7-bc8d-295ef47ae325\" class=\"plotly-graph-div\" style=\"height:525px; width:100%;\"></div>\n",
              "            <script type=\"text/javascript\">\n",
              "                \n",
              "                    window.PLOTLYENV=window.PLOTLYENV || {};\n",
              "                    \n",
              "                if (document.getElementById(\"57bc95b7-604d-4cd7-bc8d-295ef47ae325\")) {\n",
              "                    Plotly.newPlot(\n",
              "                        '57bc95b7-604d-4cd7-bc8d-295ef47ae325',\n",
              "                        [{\"type\": \"histogram\", \"x\": [4, 13, 33, 51, 31, 0, 7, 22, 65, 15, 12, 65, 3, 63, 73, 2, 27, 55, 49, 37, 72, 50, 28, 75, 84, 62, 59, 31, 20, 26, 30, 42, 45, 38, 27, 80, 40, 62, 22, 6, 74, 83, 66, 29, 47, 23, 0, 27, 7, 31, 0, 55, 1, 72, 0, 49, 0, 28, 31, 37, 32, 78, 7, 23, 31, 33, 35, 41, 35, 76, 31, 70, 76, 44, 36, 24, 33, 38, 50, 0, 61, 53, 61, 46, 55, 68, 13, 5, 9, 66, 66, 65, 26, 56, 26, 15, 66, 53, 30, 14, 76, 61, 59, 67, 37, 4, 39, 2, 31, 28, 33, 48, 27, 40, 31, 72, 30, 19, 61, 36, 43, 21, 59, 83, 3, 40, 4, 28, 9, 0, 0, 57, 20, 59, 2, 46, 35, 42, 62, 70, 12, 0, 28, 64, 28, 46, 43, 26, 67, 25, 56, 22, 44, 75, 10, 75, 37, 72, 29, 57, 39, 1, 11, 40, 61, 63, 27, 44, 28, 34, 52, 34, 24, 17, 58, 31, 44, 51, 1, 34, 12, 59, 61, 4, 22, 20, 53, 42, 7, 65, 87, 71, 62, 32, 73, 29, 49, 3, 79, 2, 14, 70, 0, 57, 21, 58, 22, 52, 75, 26, 1, 47, 27, 46, 23, 34, 69, 70, 7, 71, 54, 69, 43, 58, 4, 60, 63, 47, 44, 62, 76, 14, 64, 33, 5, 49, 66, 49, 21, 59, 62, 37, 65, 88, 20, 21, 66, 58, 43, 6, 12, 8, 77, 80, 67, 28, 62, 20, 39, 23, 21, 32, 0, 0, 11, 2, 55, 25, 71, 38, 58, 48, 30, 62, 47, 64, 64, 52, 2, 49, 76, 49, 46, 6, 71, 59, 67, 9, 55, 45, 60, 52, 51, 71, 56, 74, 34, 40, 61, 49, 27, 52, 80, 74, 69, 61, 29, 25, 35, 47, 0, 40, 1, 14, 52, 30, 54, 31, 47, 64, 25, 76, 53, 59, 88, 23, 27, 89, 25, 24, 36, 61, 63, 20, 18, 59, 67, 73, 0, 63, 6, 0, 8, 41, 36, 31, 24, 43, 27, 25, 0, 74, 82, 35, 56, 10, 21, 30, 56, 1, 30, 26, 27, 2, 25, 54, 53, 39, 49, 72, 58, 1, 63, 0, 90, 63, 46, 47, 81, 58, 66, 53, 4, 59, 61, 2, 1, 53, 49, 73, 35, 67, 21, 66, 40, 19, 38, 79, 43, 64, 75, 35, 62, 9, 60, 27, 69, 31, 55, 2, 50, 22, 49, 58, 59, 55, 41, 23, 35, 1, 30, 46, 34, 52, 28, 47, 63, 61, 60, 33, 44, 43, 52, 27, 24, 64, 85, 55, 39, 72, 68, 51, 83, 52, 29, 38, 55, 73, 31, 25, 94, 60, 25, 54, 31, 32, 41, 41, 33, 67, 29, 34, 26, 46, 1, 28, 71, 59, 83, 47, 59, 27, 4, 65, 79, 29, 38, 55, 56, 82, 32, 1, 52, 1, 18, 38, 22, 46, 62, 59, 4, 39, 87, 77, 26, 75, 52, 0, 65, 54, 1, 3, 12, 46, 12, 26, 35, 22, 46, 66, 22, 61, 83, 88, 57, 13, 66, 66, 62, 32, 24, 54, 38, 42, 3, 51, 13, 7, 76, 65, 43, 49, 65, 5, 87, 28, 63, 31, 77, 26, 63, 54, 54, 44, 19, 45, 84, 23, 35, 0, 54, 56, 68, 66, 33, 65, 22, 59, 73, 77, 24, 20, 51, 2, 35, 36, 4, 46, 22, 2, 70, 20, 33, 27, 61, 1, 53, 25, 42, 55, 56, 31, 63, 57, 31, 42, 64, 78, 49, 15, 38, 59, 31, 0, 32, 13, 6, 62, 22, 33, 60, 56, 30, 32, 3, 3, 33, 31, 57, 54, 47, 8, 56, 34, 56, 55, 1, 39, 67, 40, 26, 21, 41, 65, 67, 21, 54, 32, 0, 24, 52, 67, 39, 74, 57, 29, 6, 0, 24, 53, 17, 61, 21, 27, 32, 60, 36, 35, 31, 16, 60, 16, 54, 53, 18, 39, 64, 45, 74, 56, 9, 26, 46, 1, 69, 46, 60, 67, 2, 68, 13, 0, 15, 75, 29, 85, 58, 70, 70, 73, 0, 4, 73, 32, 59, 10, 35, 60, 6, 43, 44, 28, 8, 27, 54, 55, 70, 88, 51, 32, 30, 16, 52, 34, 52, 63, 26, 36, 20, 28, 25, 31, 56, 50, 63, 30, 41, 28, 32, 36, 57, 74, 33, 31, 67, 21, 38, 54, 50, 31, 53, 27, 44, 14, 54, 65, 55, 20, 50, 2, 24, 24, 41, 35, 0, 79, 29, 32, 31, 18, 68, 16, 36, 21, 29, 51, 46, 30, 26, 40, 29, 31, 63, 59, 2, 52, 68, 23, 69, 71, 32, 61, 33, 66, 25, 57, 56, 41, 36, 62, 77, 75, 30, 15, 58, 59, 68, 52, 27, 72, 5, 62, 40, 19, 10, 44, 4, 7, 33, 29, 32, 36, 80, 58, 34, 71, 19, 64, 2, 38, 71, 47, 26, 45, 47, 37, 55, 69, 44, 84, 49, 12, 9, 82, 60, 0, 5, 62, 0, 32, 65, 1, 43, 60, 50, 48, 54, 81, 46, 67, 42, 25, 58, 13, 1, 59, 25, 46, 0, 0, 66, 40, 56, 37, 34, 20, 1, 35, 77, 51, 87, 56, 9, 29, 33, 47, 33, 28, 47, 2, 1, 42, 41, 65, 55, 66, 59, 48, 18, 5, 55, 72, 65, 62, 76, 43, 8, 46, 37, 65, 1, 59, 52, 11, 64, 57, 30, 66, 3, 62, 43, 59, 62, 9, 49, 82, 5, 24, 6, 70, 5, 38, 32, 48, 66, 59, 66, 29, 5, 46, 76, 29, 13, 63, 66, 49, 71, 30, 51, 76, 5, 55, 60, 20, 46, 52, 35, 33, 30, 0, 2, 3, 80, 47, 26, 3, 68, 31, 33, 20, 2, 21, 54, 63, 34, 39, 2, 53, 28, 77, 58, 80, 41, 52, 0, 46, 28, 34, 17, 15, 58, 36, 64, 46, 24, 60, 60, 57, 74, 16, 0, 39, 34, 39, 36, 34, 26, 29, 64, 26, 31, 54, 76, 31, 40, 36, 21, 41, 29, 68, 31, 47, 52, 53, 48, 75, 36, 31, 6, 5, 25, 31, 30, 32, 10, 75, 27, 23, 11, 72, 37, 27, 65, 53, 24, 39, 54, 33, 6, 37, 67, 66, 21, 59, 4, 0, 27, 61, 16, 0, 64, 51, 87, 47, 29, 6, 33, 27, 53, 46, 47, 62, 14, 67, 65, 68, 55, 32, 23, 0, 27, 6, 83, 40, 67, 69, 36, 4, 49, 34, 46, 29, 57, 69, 32, 89, 41, 66, 72, 27, 49, 27, 66, 32, 3, 23, 68, 24, 1, 19, 59, 31, 57, 59, 26, 0, 60, 24, 55, 27, 21, 76, 29, 44, 33, 4, 26, 0, 2, 58, 69, 30, 65, 34, 67, 29, 82, 28, 46, 0, 55, 1, 24, 53, 24, 2, 40, 60, 25, 49, 29, 70, 12, 30, 65, 34, 66, 32, 63, 30, 60, 16, 1, 45, 66, 41, 32, 49, 30, 0, 37, 54, 74, 47, 82, 32, 14, 24, 59, 45, 77, 61, 2, 75, 58, 66, 27, 57, 36, 71, 27, 0, 9, 55, 28, 77, 72, 36, 0, 41, 84, 58, 23, 44, 50, 35, 17, 64, 51, 66, 31, 14, 72, 6, 27, 41, 26, 35, 4, 32, 66, 27, 1, 67, 32, 78, 11, 67, 33, 44, 34, 75, 71, 62, 27, 1, 32, 32, 47, 54, 33, 86, 30, 26, 29, 1, 29, 23, 67, 69, 58, 49, 31, 30, 1, 50, 37, 4, 31, 55, 21, 27, 56, 4, 26, 1, 41, 14, 2, 2, 68, 26, 24, 55, 20, 4, 57, 10, 23, 78, 52, 33, 20, 27, 58, 42, 76, 65, 14, 56, 32, 7, 87, 78, 57, 56, 63, 50, 23, 26, 20, 79, 88, 2, 59, 2, 34, 6, 20, 75, 62, 30, 47, 1, 49, 55, 28, 1, 64, 1, 26, 54, 70, 39, 47, 73, 27, 14, 52, 0, 65, 0, 34, 68, 2, 62, 84, 35, 33, 64, 53, 3, 40, 67, 37, 63, 27, 24, 30, 26, 61, 66, 59, 50, 22, 76, 0, 67, 31, 49, 28, 32, 32, 59, 61, 62, 61, 61, 38, 69, 35, 31, 31, 8, 1, 37, 55, 40, 36, 52, 46, 41, 69, 38, 28, 72, 85, 11, 12, 22, 34, 47, 14, 28, 30, 28, 19, 83, 65, 3, 41, 39, 42, 33, 33, 37, 63, 26, 3, 5, 58, 55, 2, 61, 64, 56, 65, 68, 56, 34, 33, 91, 2, 61, 35, 50, 64, 27, 2, 28, 29, 24, 31, 46, 28, 23, 28, 54, 65, 14, 43, 35, 28, 25, 47, 42, 68, 37, 57, 64, 46, 28, 36, 49, 28, 26, 28, 41, 39, 42, 27, 70, 74, 28, 21, 57, 62, 44, 2, 17, 64, 0, 61, 16, 16, 0, 28, 27, 30, 33, 50, 28, 32, 30, 67, 2, 42, 46, 65, 29, 60, 54, 1, 82, 26, 78, 48, 30, 53, 61, 9, 17, 68, 71, 30, 61, 36, 26, 44, 35, 60, 60, 44, 35, 26, 8, 26, 3, 2, 36, 89, 51, 58, 41, 68, 57, 40, 57, 6, 66, 85, 23, 66, 30, 28, 28, 23, 12, 19, 1, 53, 61, 59, 58, 27, 61, 23, 49, 52, 43, 71, 57, 75, 6, 31, 53, 27, 7, 63, 72, 26, 43, 4, 47, 50, 72, 35, 50, 44, 75, 5, 11, 32, 53, 33, 30, 27, 30, 22, 76, 38, 27, 30, 5, 22, 28, 45, 49, 34, 72, 58, 68, 29, 65, 25, 29, 34, 5, 28, 2, 0, 0, 37, 70, 34, 22, 2, 2, 27, 34, 83, 33, 3, 56, 37, 64, 43, 2, 64, 55, 91, 60, 52, 30, 58, 28, 47, 28, 73, 68, 62, 61, 3, 2, 79, 86, 12, 50, 56, 78, 15, 17, 29, 25, 26, 57, 55, 57, 55, 24, 15, 67, 26, 86, 62, 21, 7, 69, 35, 30, 26, 35, 17, 64, 33, 66, 24, 20, 20, 52, 69, 11, 82, 34, 43, 69, 31, 36, 62, 77, 22, 35, 59, 27, 62, 36, 22, 53, 36, 59, 33, 14, 5, 2, 17, 44, 57, 9, 33, 23, 26, 33, 78, 81, 5, 0, 66, 5, 49, 1, 2, 13, 61, 44, 55, 80, 0, 61, 41, 18, 91, 37, 68, 24, 76, 63, 62, 3, 16, 0, 29, 13, 28, 26, 32, 33, 34, 2, 34, 79, 0, 31, 35, 31, 28, 30, 39, 16, 66, 35, 28, 59, 69, 57, 0, 25, 23, 44, 27, 35, 60, 28, 11, 71, 44, 61, 40, 0, 36, 32, 64, 4, 57, 22, 26, 71, 29, 34, 6, 76, 57, 67, 56, 68, 27, 48, 31, 72, 48, 44, 62, 32, 74, 32, 71, 8, 67, 29, 3, 23, 77, 61, 29, 26, 21, 26, 73, 41, 33, 25, 5, 21, 9, 56, 0, 66, 67, 19, 78, 36, 68, 24, 29, 22, 11, 20, 51, 26, 31, 28, 25, 63, 6, 42, 51, 28, 27, 30, 41, 0, 2, 63, 28, 11, 64, 56, 39, 23, 56, 71, 85, 61, 31, 30, 49, 59, 27, 20, 36, 61, 76, 57, 60, 30, 66, 34, 33, 27, 35, 44, 0, 41, 62, 30, 67, 78, 63, 64, 67, 17, 28, 56, 31, 15, 24, 29, 0, 32, 38, 52, 51, 29, 63, 37, 4, 34, 61, 36, 7, 60, 1, 70, 2, 2, 58, 62, 76, 22, 66, 31, 42, 0, 49, 36, 28, 77, 32, 49, 64, 28, 1, 38, 24, 2, 63, 35, 2, 45, 46, 60, 27, 0, 31, 59, 75, 13, 57, 51, 44, 39, 43, 46, 0, 54, 41, 37, 50, 30, 33, 27, 50, 26, 67, 1, 35, 5, 31, 42, 70, 23, 61, 72, 43, 38, 55, 41, 23, 37, 26, 31, 56, 51, 20, 30, 28, 32, 43, 12, 60, 50, 67, 23, 71, 28, 54, 86, 22, 24, 56, 41, 26, 75, 72, 61, 25, 40, 49, 28, 46, 62, 46, 32, 60, 59, 28, 47, 57, 32, 49, 17, 29, 37, 24, 71, 59, 30, 69, 20, 67, 34, 0, 81, 56, 25, 35, 69, 35, 68, 56, 58, 0, 80, 27, 0, 16, 30, 6, 69, 35, 0, 74, 30, 2, 63, 20, 33, 4, 28, 49, 78, 57, 19, 38, 33, 71, 37, 30, 3, 62, 15, 32, 43, 34, 66, 53, 34, 55, 0, 66, 28, 7, 27, 47, 69, 41, 33, 33, 51, 6, 17, 40, 51, 2, 60, 16, 51, 3, 1, 26, 40, 56, 39, 77, 43, 66, 24, 61, 20, 27, 60, 55, 29, 47, 29, 82, 27, 23, 27, 79, 56, 60, 20, 31, 50, 40, 33, 65, 36, 59, 38, 6, 12, 67, 48, 48, 59, 13, 54, 39, 5, 1, 28, 30, 34, 43, 75, 65, 66, 34, 6, 28, 73, 51, 0, 32, 67, 23, 35, 22, 89, 84, 52, 50, 27, 35, 0, 53, 26, 2, 35, 23, 53, 17, 69, 28, 26, 27, 2, 62, 5, 63, 67, 23, 0, 48, 64, 33, 1, 36, 60, 54, 47, 34, 32, 33, 6, 6, 45, 78, 40, 65, 0, 65, 3, 33, 32, 0, 16, 13, 60, 20, 34, 75, 31, 52, 27, 6, 1, 58, 41, 58, 42, 17, 48, 90, 58, 26, 13, 0, 40, 6, 81, 33, 62, 19, 31, 0, 34, 36, 13, 14, 48, 41, 53, 52, 39, 37, 46, 29, 34, 38, 31, 57, 28, 60, 58, 31, 28, 40, 17, 81, 28, 34, 3, 52, 0, 55, 26, 54, 68, 80, 58, 31, 0, 28, 28, 9, 23, 41, 66, 24, 82, 33, 3, 66, 70, 62, 5, 12, 23, 3, 52, 68, 28, 70, 35, 31, 45, 9, 38, 21, 37, 71, 22, 71, 21, 52, 2, 58, 57, 49, 8, 50, 59, 2, 78, 43, 0, 29, 30, 71, 27, 48, 53, 51, 85, 30, 70, 31, 36, 66, 34, 24, 74, 69, 38, 31, 1, 50, 29, 0, 74, 35, 29, 31, 32, 4, 68, 7, 48, 0, 60, 28, 30, 20, 29, 18, 13, 34, 62, 29, 55, 29, 27, 49, 70, 54, 71, 32, 39, 30, 49, 21, 22, 33, 76, 32, 56, 3, 27, 46, 44, 26, 33, 43, 18, 56, 51, 52, 61, 68, 35, 18, 28, 50, 16, 45, 26, 36, 44, 26, 55, 36, 57, 66, 17, 0, 31, 31, 68, 27, 53, 0, 63, 0, 56, 69, 6, 21, 42, 51, 75, 56, 54, 57, 32, 51, 42, 50, 73, 51, 60, 31, 34, 41, 22, 85, 74, 63, 24, 50, 53, 53, 46, 35, 25, 27, 30, 24, 25, 55, 65, 5, 33, 45, 62, 2, 27, 15, 31, 30, 60, 68, 54, 61, 79, 70, 8, 43, 64, 10, 6, 38, 49, 34, 56, 26, 24, 58, 32, 4, 69, 49, 25, 56, 36, 8, 69, 30, 40, 5, 47, 49, 20, 56, 55, 45, 39, 61, 60, 75, 66, 48, 71, 25, 23, 35, 43, 3, 34, 0, 74, 9, 42, 64, 33, 49, 22, 30, 51, 40, 43, 53, 0, 62, 6, 59, 37, 33, 58, 1, 24, 47, 80, 62, 27, 61, 42, 27, 53, 81, 23, 57, 29, 73, 73, 56, 72, 52, 25, 46, 35, 65, 2, 1, 46, 4, 54, 37, 45, 60, 30, 29, 53, 0, 63, 68, 19, 11, 1, 1, 35, 36, 1, 60, 1, 66, 53, 12, 56, 83, 45, 46, 39, 60, 1, 29, 71, 60, 39, 12, 0, 63, 7, 26, 17, 67, 54, 70, 79, 28, 3, 58, 5, 44, 30, 52, 67, 36, 84, 62, 25, 57, 85, 31, 63, 64, 48, 32, 56, 29, 59, 10, 34, 52, 50, 70, 41, 60, 81, 65, 45, 68, 50, 31, 78, 65, 0, 54, 45, 56, 63, 20, 31, 31, 28, 10, 6, 31, 0, 41, 68, 34, 76, 17, 78, 74, 59, 56, 31, 24, 27, 47, 22, 39, 62, 80, 62, 21, 60, 3, 61, 2, 0, 64, 45, 34, 4, 27, 58, 5, 29, 28, 73, 2, 0, 50, 65, 28, 73, 25, 43, 61, 68, 24, 36, 53, 30, 1, 59, 29, 27, 1, 29, 55, 34, 48, 27, 66, 32, 69, 32, 53, 63, 75, 42, 6, 45, 62, 34, 73, 29, 33, 18, 1, 48, 1, 25, 26, 61, 32, 26, 69, 0, 22, 33, 52, 37, 43, 34, 30, 24, 30, 47, 31, 31, 95, 70, 23, 24, 57, 51, 33, 55, 30, 30, 47, 37, 41, 38, 1, 31, 53, 28, 24, 30, 26, 0, 60, 46, 11, 1, 36, 25, 54, 52, 51, 3, 16, 48, 55, 3, 60, 4, 70, 39, 51, 55, 42, 41, 31, 20, 48, 27, 65, 76, 41, 54, 0, 65, 31, 34, 2, 38, 71, 62, 30, 54, 54, 36, 7, 37, 69, 28, 53, 48, 55, 81, 42, 36, 62, 54, 51, 3, 26, 32, 56, 61, 56, 34, 50, 25, 3, 1, 63, 1, 70, 19, 25, 4, 80, 28, 1, 27, 23, 80, 31, 24, 78, 23, 37, 28, 79, 81, 30, 40, 9, 19, 23, 59, 28, 41, 51, 35, 64, 79, 74, 76, 53, 60, 29, 48, 15, 69, 57, 33, 38, 49, 22, 36, 7, 10, 0, 30, 33, 30, 29, 25, 12, 76, 32, 27, 51, 37, 70, 55, 38, 66, 7, 1, 28, 38, 0, 61, 48, 3, 29, 66, 70, 44, 32, 31, 25, 65, 64, 27, 8, 35, 35, 59, 53, 17, 4, 0, 67, 1, 0, 36, 77, 66, 52, 53, 1, 51, 30, 51, 60, 52, 53, 3, 56, 79, 21, 32, 45, 0, 33, 74, 25, 64, 23, 28, 41, 32, 75, 16, 49, 61, 9, 40, 68, 47, 14, 53, 56, 1, 1, 60, 63, 3, 41, 1, 0, 2, 32, 51, 5, 70, 53, 61, 55, 9, 41, 71, 4, 59, 27, 39, 38, 35, 29, 62, 2, 34, 0, 68, 29, 64, 75, 60, 0, 0, 30, 34, 34, 67, 60, 67, 52, 73, 49, 60, 61, 50, 0, 61, 60, 62, 60, 33, 63, 58, 24, 59, 44, 51, 2, 23, 23, 51, 3, 55, 51, 30, 43, 26, 41, 0, 52, 82, 50, 0, 68, 56, 58, 9, 67, 41, 25, 21, 16, 56, 84, 70, 25, 67, 58, 51, 0, 23, 31, 60, 47, 53, 37, 64, 55, 53, 28, 38, 40, 44, 60, 52, 32, 43, 25, 63, 4, 29, 31, 5, 8, 32, 30, 0, 54, 58, 79, 23, 65, 61, 61, 2, 24, 37, 64, 72, 32, 41, 27, 0, 71, 51, 21, 5, 32, 63, 26, 65, 49, 67, 34, 0, 0, 77, 31, 45, 44, 72, 76, 39, 31, 84, 52, 19, 37, 38, 1, 0, 73, 66, 69, 66, 26, 55, 45, 65, 0, 22, 62, 57, 34, 1, 62, 31, 34, 1, 34, 44, 29, 62, 29, 57, 11, 59, 2, 32, 33, 33, 45, 39, 63, 79, 30, 22, 33, 34, 60, 2, 64, 3, 24, 61, 24, 51, 13, 68, 66, 46, 30, 81, 31, 47, 36, 62, 48, 71, 1, 32, 25, 34, 47, 41, 28, 42, 55, 33, 59, 29, 2, 15, 64, 81, 61, 0, 29, 51, 7, 24, 1, 46, 1, 4, 59, 50, 71, 0, 7, 31, 33, 78, 26, 25, 51, 46, 44, 2, 70, 39, 90, 50, 35, 22, 58, 68, 1, 78, 30, 63, 25, 50, 52, 58, 0, 38, 67, 3, 35, 23, 26, 0, 30, 10, 1, 33, 22, 37, 14, 51, 10, 5, 28, 67, 33, 36, 44, 57, 4, 7, 55, 42, 61, 63, 56, 32, 45, 36, 69, 83, 54, 27, 3, 68, 80, 23, 28, 71, 30, 41, 64, 66, 19, 50, 35, 29, 3, 63, 31, 38, 26, 33, 29, 61, 30, 39, 36, 4, 25, 3, 54, 57, 72, 64, 81, 17, 28, 8, 26, 42, 41, 19, 4, 28, 56, 9, 0, 57, 2, 38, 79, 25, 61, 0, 74, 0, 53, 0, 24, 29, 30, 23, 4, 40, 20, 25, 51, 63, 69, 55, 0, 0, 60, 50, 61, 1, 42, 0, 49, 29, 36, 33, 65, 72, 9, 0, 2, 28, 10, 46, 38, 74, 24, 26, 28, 28, 2, 60, 35, 30, 56, 46, 4, 48, 38, 69, 29, 25, 5, 66, 75, 31, 4, 7, 29, 0, 37, 59, 23, 35, 36, 65, 71, 54, 26, 72, 2, 20, 75, 52, 48, 69, 10, 49, 58, 48, 61, 59, 5, 27, 82, 21, 33, 5, 34, 64, 49, 47, 97, 55, 30, 37, 31, 49, 19, 59, 18, 66, 14, 71, 62, 36, 40, 2, 74, 70, 72, 1, 29, 50, 66, 68, 72, 20, 33, 1, 43, 70, 29, 30, 27, 36, 33, 49, 61, 25, 45, 32, 33, 47, 37, 28, 59, 28, 0, 32, 25, 62, 67, 28, 22, 64, 28, 25, 63, 14, 59, 64, 34, 4, 69, 76, 56, 33, 57, 75, 34, 27, 26, 39, 35, 76, 43, 42, 25, 65, 31, 20, 26, 6, 37, 16, 69, 33, 77, 29, 0, 76, 3, 6, 34, 73, 74, 37, 58, 58, 47, 41, 19, 18, 4, 69, 36, 66, 56, 39, 3, 39, 25, 1, 29, 70, 26, 5, 29, 43, 56, 38, 37, 2, 33, 5, 57, 36, 46, 61, 46, 65, 73, 29, 72, 50, 43, 64, 0, 74, 6, 36, 7, 35, 26, 37, 72, 71, 35, 8, 59, 60, 62, 1, 88, 65, 72, 76, 20, 53, 60, 41, 60, 0, 44, 41, 28, 67, 4, 24, 38, 31, 32, 27, 46, 43, 28, 62, 45, 48, 30, 57, 72, 1, 5, 1, 32, 2, 0, 53, 69, 15, 0, 73, 33, 13, 39, 4, 59, 4, 37, 35, 62, 16, 72, 60, 38, 68, 37, 49, 43, 29, 48, 65, 19, 29, 66, 31, 18, 27, 2, 69, 42, 4, 0, 10, 30, 27, 4, 34, 32, 4, 1, 74, 76, 32, 61, 0, 50, 26, 35, 23, 53, 33, 58, 25, 58, 29, 42, 55, 72, 37, 46, 29, 67, 27, 86, 46, 34, 1, 40, 31, 60, 32, 72, 56, 42, 4, 68, 33, 81, 26, 0, 0, 80, 55, 62, 54, 54, 6, 47, 70, 31, 50, 64, 3, 13, 7, 34, 55, 91, 71, 65, 14, 82, 25, 25, 26, 56, 25, 33, 5, 58, 35, 3, 46, 77, 65, 4, 20, 84, 53, 57, 23, 1, 19, 42, 42, 60, 22, 28, 69, 35, 24, 31, 57, 58, 34, 3, 49, 36, 34, 28, 17, 36, 67, 27, 51, 56, 53, 62, 67, 62, 3, 68, 65, 2, 32, 68, 3, 3, 61, 14, 13, 4, 63, 50, 20, 32, 22, 63, 54, 0, 21, 69, 0, 57, 62, 19, 49, 53, 3, 33, 49, 59, 18, 58, 46, 35, 30, 48, 2, 21, 62, 40, 33, 50, 3, 2, 3, 2, 66, 33, 7, 26, 25, 40, 16, 33, 13, 36, 0, 6, 41, 3, 33, 24, 85, 26, 34, 61, 22, 36, 55, 71, 54, 75, 35, 37, 29, 73, 59, 23, 72, 63, 28, 63, 25, 49, 84, 4, 15, 34, 19, 62, 1, 4, 31, 28, 35, 78, 1, 37, 0, 39, 15, 29, 40, 66, 62, 47, 74, 50, 54, 41, 41, 42, 43, 37, 77, 75, 1, 1, 45, 61, 60, 71, 33, 35, 69, 38, 66, 60, 16, 81, 68, 23, 43, 56, 82, 25, 2, 32, 78, 36, 2, 15, 27, 66, 25, 78, 49, 23, 36, 2, 63, 61, 30, 32, 37, 32, 67, 29, 27, 76, 23, 58, 73, 62, 86, 10, 40, 78, 34, 75, 27, 1, 0, 65, 45, 24, 61, 1, 59, 55, 32, 30, 57, 27, 81, 55, 38, 2, 55, 25, 14, 53, 31, 58, 17, 26, 36, 25, 56, 24, 68, 21, 27, 71, 66, 75, 32, 11, 65, 19, 65, 52, 61, 52, 29, 31, 31, 29, 29, 65, 76, 1, 59, 36, 1, 30, 53, 52, 42, 29, 48, 27, 38, 69, 36, 20, 28, 1, 66, 84, 30, 4, 28, 32, 59, 69, 47, 65, 26, 58, 51, 33, 32, 41, 27, 45, 65, 47, 64, 62, 24, 60, 78, 15, 64, 68, 18, 19, 70, 55, 67, 67, 72, 27, 0, 33, 62, 74, 57, 50, 32, 38, 42, 1, 36, 34, 1, 58, 31, 58, 29, 85, 32, 61, 1, 73, 27, 24, 0, 40, 5, 47, 55, 56, 41, 57, 66, 38, 27, 22, 57, 50, 46, 59, 56, 59, 0, 74, 1, 40, 13, 51, 46, 31, 35, 37, 30, 33, 57, 32, 22, 55, 67, 31, 36, 38, 26, 29, 60, 0, 34, 6, 60, 44, 10, 0, 0, 46, 38, 40, 25, 45, 52, 29, 66, 62, 89, 33, 34, 29, 60, 13, 45, 51, 85, 49, 70, 77, 70, 31, 30, 15, 69, 4, 0, 37, 56, 75, 7, 65, 65, 58, 3, 28, 65, 30, 89, 43, 34, 33, 76, 30, 29, 36, 41, 4, 53, 35, 49, 75, 31, 78, 28, 55, 74, 3, 82, 60, 38, 22, 30, 30, 28, 12, 0, 56, 26, 81, 57, 38, 40, 64, 34, 62, 48, 31, 60, 18, 35, 26, 49, 54, 54, 1, 5, 31, 65, 58, 60, 50, 37, 36, 4, 60, 56, 36, 69, 70, 73, 70, 67, 46, 28, 56, 35, 14, 61, 9, 57, 80, 16, 28, 39, 24, 66, 37, 66, 37, 55, 34, 35, 63, 25, 52, 39, 35, 52, 37, 31, 60, 41, 64, 47, 81, 32, 19, 69, 24, 19, 39, 27, 8, 61, 54, 65, 73, 40, 30, 26, 61, 69, 3, 61, 68, 72, 32, 36, 9, 69, 37, 34, 71, 1, 2, 62, 61, 4, 16, 3, 29, 67, 47, 25, 29, 23, 28, 55, 19, 67, 91, 48, 37, 43, 67, 59, 63, 35, 37, 28, 30, 52, 25, 33, 68, 23, 74, 35, 42, 24, 24, 57, 70, 4, 37, 62, 1, 29, 65, 59, 35, 62, 17, 43, 33, 67, 49, 48, 34, 22, 4, 31, 33, 61, 84, 27, 1, 64, 35, 36, 1, 28, 61, 66, 7, 7, 50, 5, 34, 24, 31, 66, 72, 25, 38, 42, 48, 77, 69, 21, 2, 46, 60, 33, 37, 49, 45, 27, 19, 21, 48, 27, 36, 3, 62, 26, 44, 0, 4, 45, 20, 31, 61, 32, 31, 4, 3, 1, 1, 33, 58, 40, 43, 53, 53, 82, 57, 37, 26, 3, 24, 0, 42, 25, 2, 7, 38, 56, 41, 2, 66, 60, 3, 39, 64, 51, 44, 29, 58, 32, 74, 37, 31, 23, 78, 37, 58, 40, 70, 26, 38, 36, 40, 31, 25, 21, 27, 74, 87, 35, 39, 54, 55, 66, 30, 25, 49, 69, 36, 26, 0, 6, 74, 75, 38, 68, 39, 38, 38, 35, 23, 65, 4, 31, 41, 66, 1, 73, 10, 16, 44, 18, 41, 73, 33, 1, 0, 59, 30, 18, 33, 24, 62, 40, 4, 54, 1, 35, 64, 54, 38, 23, 31, 25, 34, 59, 31, 75, 37, 58, 59, 49, 59, 32, 56, 26, 30, 75, 73, 40, 36, 72, 38, 15, 59, 51, 72, 22, 26, 32, 23, 67, 19, 56, 66, 49, 12, 86, 49, 53, 50, 28, 37, 30, 69, 54, 35, 47, 28, 1, 36, 69, 83, 26, 0, 31, 17, 80, 79, 58, 33, 1, 36, 22, 23, 46, 7, 40, 58, 28, 61, 32, 34, 23, 0, 32, 32, 23, 26, 49, 32, 47, 74, 67, 48, 49, 67, 53, 33, 6, 44, 61, 64, 29, 42, 5, 35, 35, 31, 57, 55, 1, 41, 81, 61, 30, 60, 49, 1, 31, 2, 35, 5, 0, 24, 17, 42, 30, 31, 8, 41, 51, 46, 0, 26, 1, 22, 70, 60, 27, 89, 73, 26, 60, 47, 69, 38, 40, 1, 82, 73, 67, 58, 30, 47, 22, 27, 77, 42, 26, 14, 33, 27, 1, 24, 61, 38, 44, 75, 31, 27, 29, 37, 56, 33, 26, 29, 10, 63, 64, 12, 59, 34, 3, 22, 62, 49, 0, 47, 41, 32, 33, 34, 3, 24, 26, 19, 17, 22, 73, 40, 25, 63, 83, 22, 33, 62, 39, 2, 35, 35, 34, 77, 72, 72, 1, 60, 63, 12, 23, 27, 21, 39, 23, 0, 83, 53, 61, 43, 58, 72, 45, 0, 38, 70, 59, 10, 50, 7, 72, 1, 66, 8, 32, 70, 0, 33, 64, 17, 72, 53, 73, 67, 58, 61, 62, 3, 66, 30, 69, 68, 0, 34, 58, 59, 2, 39, 44, 53, 47, 80, 27, 27, 7, 49, 47, 26, 74, 34, 54, 61, 28, 20, 30, 41, 56, 36, 66, 48, 35, 27, 46, 59, 46, 40, 43, 11, 16, 30, 0, 25, 79, 44, 27, 69, 53, 41, 22, 38, 28, 2, 62, 36, 63, 36, 21, 31, 69, 33, 31, 1, 43, 49, 26, 1, 28, 0, 0, 30, 64, 30, 88, 55, 47, 20, 28, 62, 67, 28, 34, 1, 53, 81, 62, 56, 41, 28, 1, 67, 64, 54, 12, 7, 71, 65, 52, 13, 4, 71, 29, 37, 31, 1, 33, 70, 71, 2, 15, 71, 62, 68, 58, 63, 38, 28, 3, 67, 62, 16, 2, 47, 26, 9, 12, 3, 20, 55, 73, 51, 47, 11, 61, 24, 16, 4, 39, 28, 36, 51, 56, 51, 81, 60, 30, 51, 48, 62, 26, 76, 58, 79, 34, 69, 66, 0, 29, 37, 51, 39, 28, 52, 52, 23, 28, 63, 26, 42, 6, 29, 18, 13, 33, 57, 25, 58, 57, 0, 37, 23, 81, 27, 30, 15, 27, 26, 76, 64, 30, 30, 54, 37, 15, 28, 29, 33, 30, 38, 50, 36, 64, 57, 51, 29, 71, 1, 7, 42, 52, 43, 69, 38, 14, 67, 30, 43, 60, 0, 29, 36, 2, 31, 3, 24, 68, 63, 60, 0, 9, 29, 29, 0, 34, 33, 6, 63, 65, 35, 7, 69, 74, 38, 72, 63, 85, 34, 33, 20, 0, 29, 30, 4, 56, 10, 0, 27, 72, 38, 47, 19, 52, 24, 59, 16, 72, 1, 6, 50, 21, 63]}],\n",
              "                        {\"shapes\": [{\"line\": {\"color\": \"black\", \"width\": 1}, \"type\": \"line\", \"x0\": 69.0, \"x1\": 69.0, \"xref\": \"x\", \"y0\": 0, \"y1\": 300}, {\"line\": {\"color\": \"black\", \"width\": 1}, \"type\": \"line\", \"x0\": 4.0, \"x1\": 4.0, \"xref\": \"x\", \"y0\": 0, \"y1\": 300}], \"template\": {\"data\": {\"bar\": [{\"error_x\": {\"color\": \"#2a3f5f\"}, \"error_y\": {\"color\": \"#2a3f5f\"}, \"marker\": {\"line\": {\"color\": \"#E5ECF6\", \"width\": 0.5}}, \"type\": \"bar\"}], \"barpolar\": [{\"marker\": {\"line\": {\"color\": \"#E5ECF6\", \"width\": 0.5}}, \"type\": \"barpolar\"}], \"carpet\": [{\"aaxis\": {\"endlinecolor\": \"#2a3f5f\", \"gridcolor\": \"white\", \"linecolor\": \"white\", \"minorgridcolor\": \"white\", \"startlinecolor\": \"#2a3f5f\"}, \"baxis\": {\"endlinecolor\": \"#2a3f5f\", \"gridcolor\": \"white\", \"linecolor\": \"white\", \"minorgridcolor\": \"white\", \"startlinecolor\": \"#2a3f5f\"}, \"type\": \"carpet\"}], \"choropleth\": [{\"colorbar\": {\"outlinewidth\": 0, \"ticks\": \"\"}, \"type\": \"choropleth\"}], \"contour\": [{\"colorbar\": {\"outlinewidth\": 0, \"ticks\": \"\"}, \"colorscale\": [[0.0, \"#0d0887\"], [0.1111111111111111, \"#46039f\"], [0.2222222222222222, \"#7201a8\"], [0.3333333333333333, \"#9c179e\"], [0.4444444444444444, \"#bd3786\"], [0.5555555555555556, \"#d8576b\"], [0.6666666666666666, \"#ed7953\"], [0.7777777777777778, \"#fb9f3a\"], [0.8888888888888888, \"#fdca26\"], [1.0, \"#f0f921\"]], \"type\": \"contour\"}], \"contourcarpet\": [{\"colorbar\": {\"outlinewidth\": 0, \"ticks\": \"\"}, \"type\": \"contourcarpet\"}], \"heatmap\": [{\"colorbar\": {\"outlinewidth\": 0, \"ticks\": \"\"}, \"colorscale\": [[0.0, \"#0d0887\"], [0.1111111111111111, \"#46039f\"], [0.2222222222222222, \"#7201a8\"], [0.3333333333333333, \"#9c179e\"], [0.4444444444444444, \"#bd3786\"], [0.5555555555555556, \"#d8576b\"], [0.6666666666666666, \"#ed7953\"], [0.7777777777777778, \"#fb9f3a\"], [0.8888888888888888, \"#fdca26\"], [1.0, \"#f0f921\"]], \"type\": \"heatmap\"}], \"heatmapgl\": [{\"colorbar\": {\"outlinewidth\": 0, \"ticks\": \"\"}, \"colorscale\": [[0.0, \"#0d0887\"], [0.1111111111111111, \"#46039f\"], [0.2222222222222222, \"#7201a8\"], [0.3333333333333333, \"#9c179e\"], [0.4444444444444444, \"#bd3786\"], [0.5555555555555556, \"#d8576b\"], [0.6666666666666666, \"#ed7953\"], [0.7777777777777778, \"#fb9f3a\"], [0.8888888888888888, \"#fdca26\"], [1.0, \"#f0f921\"]], \"type\": \"heatmapgl\"}], \"histogram\": [{\"marker\": {\"colorbar\": {\"outlinewidth\": 0, \"ticks\": \"\"}}, \"type\": \"histogram\"}], \"histogram2d\": [{\"colorbar\": {\"outlinewidth\": 0, \"ticks\": \"\"}, \"colorscale\": [[0.0, \"#0d0887\"], [0.1111111111111111, \"#46039f\"], [0.2222222222222222, \"#7201a8\"], [0.3333333333333333, \"#9c179e\"], [0.4444444444444444, \"#bd3786\"], [0.5555555555555556, \"#d8576b\"], [0.6666666666666666, \"#ed7953\"], [0.7777777777777778, \"#fb9f3a\"], [0.8888888888888888, \"#fdca26\"], [1.0, \"#f0f921\"]], \"type\": \"histogram2d\"}], \"histogram2dcontour\": [{\"colorbar\": {\"outlinewidth\": 0, \"ticks\": \"\"}, \"colorscale\": [[0.0, \"#0d0887\"], [0.1111111111111111, \"#46039f\"], [0.2222222222222222, \"#7201a8\"], [0.3333333333333333, \"#9c179e\"], [0.4444444444444444, \"#bd3786\"], [0.5555555555555556, \"#d8576b\"], [0.6666666666666666, \"#ed7953\"], [0.7777777777777778, \"#fb9f3a\"], [0.8888888888888888, \"#fdca26\"], [1.0, \"#f0f921\"]], \"type\": \"histogram2dcontour\"}], \"mesh3d\": [{\"colorbar\": {\"outlinewidth\": 0, \"ticks\": \"\"}, \"type\": \"mesh3d\"}], \"parcoords\": [{\"line\": {\"colorbar\": {\"outlinewidth\": 0, \"ticks\": \"\"}}, \"type\": \"parcoords\"}], \"pie\": [{\"automargin\": true, \"type\": \"pie\"}], \"scatter\": [{\"marker\": {\"colorbar\": {\"outlinewidth\": 0, \"ticks\": \"\"}}, \"type\": \"scatter\"}], \"scatter3d\": [{\"line\": {\"colorbar\": {\"outlinewidth\": 0, \"ticks\": \"\"}}, \"marker\": {\"colorbar\": {\"outlinewidth\": 0, \"ticks\": \"\"}}, \"type\": \"scatter3d\"}], \"scattercarpet\": [{\"marker\": {\"colorbar\": {\"outlinewidth\": 0, \"ticks\": \"\"}}, \"type\": \"scattercarpet\"}], \"scattergeo\": [{\"marker\": {\"colorbar\": {\"outlinewidth\": 0, \"ticks\": \"\"}}, \"type\": \"scattergeo\"}], \"scattergl\": [{\"marker\": {\"colorbar\": {\"outlinewidth\": 0, \"ticks\": \"\"}}, \"type\": \"scattergl\"}], \"scattermapbox\": [{\"marker\": {\"colorbar\": {\"outlinewidth\": 0, \"ticks\": \"\"}}, \"type\": \"scattermapbox\"}], \"scatterpolar\": [{\"marker\": {\"colorbar\": {\"outlinewidth\": 0, \"ticks\": \"\"}}, \"type\": \"scatterpolar\"}], \"scatterpolargl\": [{\"marker\": {\"colorbar\": {\"outlinewidth\": 0, \"ticks\": \"\"}}, \"type\": \"scatterpolargl\"}], \"scatterternary\": [{\"marker\": {\"colorbar\": {\"outlinewidth\": 0, \"ticks\": \"\"}}, \"type\": \"scatterternary\"}], \"surface\": [{\"colorbar\": {\"outlinewidth\": 0, \"ticks\": \"\"}, \"colorscale\": [[0.0, \"#0d0887\"], [0.1111111111111111, \"#46039f\"], [0.2222222222222222, \"#7201a8\"], [0.3333333333333333, \"#9c179e\"], [0.4444444444444444, \"#bd3786\"], [0.5555555555555556, \"#d8576b\"], [0.6666666666666666, \"#ed7953\"], [0.7777777777777778, \"#fb9f3a\"], [0.8888888888888888, \"#fdca26\"], [1.0, \"#f0f921\"]], \"type\": \"surface\"}], \"table\": [{\"cells\": {\"fill\": {\"color\": \"#EBF0F8\"}, \"line\": {\"color\": \"white\"}}, \"header\": {\"fill\": {\"color\": \"#C8D4E3\"}, \"line\": {\"color\": \"white\"}}, \"type\": \"table\"}]}, \"layout\": {\"annotationdefaults\": {\"arrowcolor\": \"#2a3f5f\", \"arrowhead\": 0, \"arrowwidth\": 1}, \"coloraxis\": {\"colorbar\": {\"outlinewidth\": 0, \"ticks\": \"\"}}, \"colorscale\": {\"diverging\": [[0, \"#8e0152\"], [0.1, \"#c51b7d\"], [0.2, \"#de77ae\"], [0.3, \"#f1b6da\"], [0.4, \"#fde0ef\"], [0.5, \"#f7f7f7\"], [0.6, \"#e6f5d0\"], [0.7, \"#b8e186\"], [0.8, \"#7fbc41\"], [0.9, \"#4d9221\"], [1, \"#276419\"]], \"sequential\": [[0.0, \"#0d0887\"], [0.1111111111111111, \"#46039f\"], [0.2222222222222222, \"#7201a8\"], [0.3333333333333333, \"#9c179e\"], [0.4444444444444444, \"#bd3786\"], [0.5555555555555556, \"#d8576b\"], [0.6666666666666666, \"#ed7953\"], [0.7777777777777778, \"#fb9f3a\"], [0.8888888888888888, \"#fdca26\"], [1.0, \"#f0f921\"]], \"sequentialminus\": [[0.0, \"#0d0887\"], [0.1111111111111111, \"#46039f\"], [0.2222222222222222, \"#7201a8\"], [0.3333333333333333, \"#9c179e\"], [0.4444444444444444, \"#bd3786\"], [0.5555555555555556, \"#d8576b\"], [0.6666666666666666, \"#ed7953\"], [0.7777777777777778, \"#fb9f3a\"], [0.8888888888888888, \"#fdca26\"], [1.0, \"#f0f921\"]]}, \"colorway\": [\"#636efa\", \"#EF553B\", \"#00cc96\", \"#ab63fa\", \"#FFA15A\", \"#19d3f3\", \"#FF6692\", \"#B6E880\", \"#FF97FF\", \"#FECB52\"], \"font\": {\"color\": \"#2a3f5f\"}, \"geo\": {\"bgcolor\": \"white\", \"lakecolor\": \"white\", \"landcolor\": \"#E5ECF6\", \"showlakes\": true, \"showland\": true, \"subunitcolor\": \"white\"}, \"hoverlabel\": {\"align\": \"left\"}, \"hovermode\": \"closest\", \"mapbox\": {\"style\": \"light\"}, \"paper_bgcolor\": \"white\", \"plot_bgcolor\": \"#E5ECF6\", \"polar\": {\"angularaxis\": {\"gridcolor\": \"white\", \"linecolor\": \"white\", \"ticks\": \"\"}, \"bgcolor\": \"#E5ECF6\", \"radialaxis\": {\"gridcolor\": \"white\", \"linecolor\": \"white\", \"ticks\": \"\"}}, \"scene\": {\"xaxis\": {\"backgroundcolor\": \"#E5ECF6\", \"gridcolor\": \"white\", \"gridwidth\": 2, \"linecolor\": \"white\", \"showbackground\": true, \"ticks\": \"\", \"zerolinecolor\": \"white\"}, \"yaxis\": {\"backgroundcolor\": \"#E5ECF6\", \"gridcolor\": \"white\", \"gridwidth\": 2, \"linecolor\": \"white\", \"showbackground\": true, \"ticks\": \"\", \"zerolinecolor\": \"white\"}, \"zaxis\": {\"backgroundcolor\": \"#E5ECF6\", \"gridcolor\": \"white\", \"gridwidth\": 2, \"linecolor\": \"white\", \"showbackground\": true, \"ticks\": \"\", \"zerolinecolor\": \"white\"}}, \"shapedefaults\": {\"line\": {\"color\": \"#2a3f5f\"}}, \"ternary\": {\"aaxis\": {\"gridcolor\": \"white\", \"linecolor\": \"white\", \"ticks\": \"\"}, \"baxis\": {\"gridcolor\": \"white\", \"linecolor\": \"white\", \"ticks\": \"\"}, \"bgcolor\": \"#E5ECF6\", \"caxis\": {\"gridcolor\": \"white\", \"linecolor\": \"white\", \"ticks\": \"\"}}, \"title\": {\"x\": 0.05}, \"xaxis\": {\"automargin\": true, \"gridcolor\": \"white\", \"linecolor\": \"white\", \"ticks\": \"\", \"title\": {\"standoff\": 15}, \"zerolinecolor\": \"white\", \"zerolinewidth\": 2}, \"yaxis\": {\"automargin\": true, \"gridcolor\": \"white\", \"linecolor\": \"white\", \"ticks\": \"\", \"title\": {\"standoff\": 15}, \"zerolinecolor\": \"white\", \"zerolinewidth\": 2}}}},\n",
              "                        {\"responsive\": true}\n",
              "                    ).then(function(){\n",
              "                            \n",
              "var gd = document.getElementById('57bc95b7-604d-4cd7-bc8d-295ef47ae325');\n",
              "var x = new MutationObserver(function (mutations, observer) {{\n",
              "        var display = window.getComputedStyle(gd).display;\n",
              "        if (!display || display === 'none') {{\n",
              "            console.log([gd, 'removed!']);\n",
              "            Plotly.purge(gd);\n",
              "            observer.disconnect();\n",
              "        }}\n",
              "}});\n",
              "\n",
              "// Listen for the removal of the full notebook cells\n",
              "var notebookContainer = gd.closest('#notebook-container');\n",
              "if (notebookContainer) {{\n",
              "    x.observe(notebookContainer, {childList: true});\n",
              "}}\n",
              "\n",
              "// Listen for the clearing of the current output cell\n",
              "var outputEl = gd.closest('.output');\n",
              "if (outputEl) {{\n",
              "    x.observe(outputEl, {childList: true});\n",
              "}}\n",
              "\n",
              "                        })\n",
              "                };\n",
              "                \n",
              "            </script>\n",
              "        </div>\n",
              "</body>\n",
              "</html>"
            ]
          },
          "metadata": {
            "tags": []
          }
        }
      ]
    },
    {
      "cell_type": "code",
      "metadata": {
        "colab": {
          "base_uri": "https://localhost:8080/",
          "height": 436
        },
        "id": "8qOVoMxE-ziu",
        "outputId": "d0eb2ee7-d17d-49d2-f9a0-ead49757604d"
      },
      "source": [
        "##Bi-Variate Age and Target\r\n",
        "plt.figure()\r\n",
        "plt.subplot(1,2,1)\r\n",
        "sns.violinplot(x=data['NPS_Status'],y=data['AgeYrs'])\r\n",
        "##There is a slight difference between Passive and the other groups whereas Promtors and Detractor dont have significance\r\n",
        "\r\n",
        "# data['AgeYrs'][data['NPS_Status']=='Detractor'].mean()\r\n",
        "plt.subplot(1,2,2)\r\n",
        "sns.boxplot(x=data['NPS_Status'],y=data['AgeYrs'])\r\n",
        "data.groupby('NPS_Status')[['AgeYrs']].mean()\r\n"
      ],
      "execution_count": 19,
      "outputs": [
        {
          "output_type": "execute_result",
          "data": {
            "text/html": [
              "<div>\n",
              "<style scoped>\n",
              "    .dataframe tbody tr th:only-of-type {\n",
              "        vertical-align: middle;\n",
              "    }\n",
              "\n",
              "    .dataframe tbody tr th {\n",
              "        vertical-align: top;\n",
              "    }\n",
              "\n",
              "    .dataframe thead th {\n",
              "        text-align: right;\n",
              "    }\n",
              "</style>\n",
              "<table border=\"1\" class=\"dataframe\">\n",
              "  <thead>\n",
              "    <tr style=\"text-align: right;\">\n",
              "      <th></th>\n",
              "      <th>AgeYrs</th>\n",
              "    </tr>\n",
              "    <tr>\n",
              "      <th>NPS_Status</th>\n",
              "      <th></th>\n",
              "    </tr>\n",
              "  </thead>\n",
              "  <tbody>\n",
              "    <tr>\n",
              "      <th>Detractor</th>\n",
              "      <td>40.209163</td>\n",
              "    </tr>\n",
              "    <tr>\n",
              "      <th>Passive</th>\n",
              "      <td>37.334076</td>\n",
              "    </tr>\n",
              "    <tr>\n",
              "      <th>Promotor</th>\n",
              "      <td>40.594268</td>\n",
              "    </tr>\n",
              "  </tbody>\n",
              "</table>\n",
              "</div>"
            ],
            "text/plain": [
              "               AgeYrs\n",
              "NPS_Status           \n",
              "Detractor   40.209163\n",
              "Passive     37.334076\n",
              "Promotor    40.594268"
            ]
          },
          "metadata": {
            "tags": []
          },
          "execution_count": 19
        },
        {
          "output_type": "display_data",
          "data": {
            "image/png": "[encoded data removed]",
            "text/plain": [
              "<Figure size 432x288 with 2 Axes>"
            ]
          },
          "metadata": {
            "tags": [],
            "needs_background": "light"
          }
        }
      ]
    },
    {
      "cell_type": "code",
      "metadata": {
        "colab": {
          "base_uri": "https://localhost:8080/",
          "height": 295
        },
        "id": "3rJEfI3D0zru",
        "outputId": "9ec6f832-5611-4d0b-d06d-3484d70059e9"
      },
      "source": [
        "##Relation between SEX and Target\r\n",
        "\r\n",
        "crstb=pd.crosstab(data['Sex'],data['NPS_Status'])\r\n",
        "crstb.plot(kind='bar',stacked=True)"
      ],
      "execution_count": 20,
      "outputs": [
        {
          "output_type": "execute_result",
          "data": {
            "text/plain": [
              "<matplotlib.axes._subplots.AxesSubplot at 0x7fd1404b7e10>"
            ]
          },
          "metadata": {
            "tags": []
          },
          "execution_count": 20
        },
        {
          "output_type": "display_data",
          "data": {
            "image/png": "[encoded data removed]",
            "text/plain": [
              "<Figure size 432x288 with 1 Axes>"
            ]
          },
          "metadata": {
            "tags": [],
            "needs_background": "light"
          }
        }
      ]
    },
    {
      "cell_type": "code",
      "metadata": {
        "colab": {
          "base_uri": "https://localhost:8080/",
          "height": 352
        },
        "id": "ekVS-bJA3Wb9",
        "outputId": "260b9fe4-3ddc-45ea-b751-23ad4b56a26a"
      },
      "source": [
        "##EDA for Bed Category and Departments\r\n",
        "crstb=pd.crosstab(data['BedCategory'],data['NPS_Status'])\r\n",
        "ax=crstb.plot(kind='bar',stacked=True)\r\n",
        "for p in ax.patches:\r\n",
        "    ax.annotate(str(p.get_height()), (p.get_x() * 1.005, p.get_height() * 1.005))"
      ],
      "execution_count": 21,
      "outputs": [
        {
          "output_type": "display_data",
          "data": {
            "image/png": "[encoded data removed]",
            "text/plain": [
              "<Figure size 432x288 with 1 Axes>"
            ]
          },
          "metadata": {
            "tags": [],
            "needs_background": "light"
          }
        }
      ]
    },
    {
      "cell_type": "code",
      "metadata": {
        "colab": {
          "base_uri": "https://localhost:8080/",
          "height": 277
        },
        "id": "Ymvjh23f4OmX",
        "outputId": "bd6f84b2-60d5-4c57-f5af-a929c934d860"
      },
      "source": [
        "##EDA for Departments\r\n",
        "crstb=pd.crosstab(data['EM_DOCTOR'],data['NPS_Status'])\r\n",
        "ax=crstb.plot(kind='bar',stacked=True)\r\n",
        "for p in ax.patches:\r\n",
        "    ax.annotate(str(p.get_height()), (p.get_x() * 1.005, p.get_height() * 1.005))"
      ],
      "execution_count": 22,
      "outputs": [
        {
          "output_type": "display_data",
          "data": {
            "image/png": "[encoded data removed]",
            "text/plain": [
              "<Figure size 432x288 with 1 Axes>"
            ]
          },
          "metadata": {
            "tags": [],
            "needs_background": "light"
          }
        }
      ]
    },
    {
      "cell_type": "code",
      "metadata": {
        "colab": {
          "base_uri": "https://localhost:8080/",
          "height": 280
        },
        "id": "TN-hzBau4fuL",
        "outputId": "13087fb8-4493-4fd8-d929-6376fb0b8085"
      },
      "source": [
        "##EDA for Departments\r\n",
        "crstb=pd.crosstab(data['CE_VALUEFORMONEY'],data['NPS_Status'])\r\n",
        "ax=crstb.plot(kind='bar',stacked=True)\r\n",
        "for p in ax.patches:\r\n",
        "    ax.annotate(str(p.get_height()), (p.get_x() * 1.005, p.get_height() * 1.005))"
      ],
      "execution_count": 23,
      "outputs": [
        {
          "output_type": "display_data",
          "data": {
            "image/png": "[encoded data removed]",
            "text/plain": [
              "<Figure size 432x288 with 1 Axes>"
            ]
          },
          "metadata": {
            "tags": [],
            "needs_background": "light"
          }
        }
      ]
    },
    {
      "cell_type": "code",
      "metadata": {
        "colab": {
          "base_uri": "https://localhost:8080/",
          "height": 297
        },
        "id": "OUGyhPyc6G61",
        "outputId": "2b2e8db9-fff3-4765-d03e-4f3425fce30d"
      },
      "source": [
        "##Bi-Variate LengthofStay and Target\r\n",
        "plt.figure()\r\n",
        "plt.subplot(1,2,1)\r\n",
        "sns.violinplot(x=data['NPS_Status'],y=data['LengthofStay'])\r\n",
        "##There is a slight difference between Passive and the other groups whereas Promtors and Detractor dont have significance\r\n",
        "plt.subplot(1,2,2)\r\n",
        "sns.boxplot(x=data['NPS_Status'],y=data['LengthofStay'])\r\n",
        "\r\n",
        "# data['AgeYrs'][data['NPS_Status']=='Detractor'].mean()\r\n",
        "# data.groupby('NPS_Status')[['LengthofStay']].mean()\r\n"
      ],
      "execution_count": 24,
      "outputs": [
        {
          "output_type": "execute_result",
          "data": {
            "text/plain": [
              "<matplotlib.axes._subplots.AxesSubplot at 0x7fd1402e7ba8>"
            ]
          },
          "metadata": {
            "tags": []
          },
          "execution_count": 24
        },
        {
          "output_type": "display_data",
          "data": {
            "image/png": "[encoded data removed]",
            "text/plain": [
              "<Figure size 432x288 with 2 Axes>"
            ]
          },
          "metadata": {
            "tags": [],
            "needs_background": "light"
          }
        }
      ]
    },
    {
      "cell_type": "code",
      "metadata": {
        "colab": {
          "base_uri": "https://localhost:8080/"
        },
        "id": "wkvfesBaYZSF",
        "outputId": "0ba58732-ec8c-4754-8c79-368a2b0e74c6"
      },
      "source": [
        "\r\n",
        "data['AgeYrs'].describe()"
      ],
      "execution_count": 25,
      "outputs": [
        {
          "output_type": "execute_result",
          "data": {
            "text/plain": [
              "count    4989.000000\n",
              "mean       39.675286\n",
              "std        22.673947\n",
              "min         0.000000\n",
              "25%        25.000000\n",
              "50%        37.000000\n",
              "75%        59.000000\n",
              "max        97.000000\n",
              "Name: AgeYrs, dtype: float64"
            ]
          },
          "metadata": {
            "tags": []
          },
          "execution_count": 25
        }
      ]
    },
    {
      "cell_type": "code",
      "metadata": {
        "id": "l6qhqW9v-pPE"
      },
      "source": [
        "##Normalizing the Integer variables\r\n",
        "\r\n",
        "##We dont need Normalization for Bagging and Boosting and DT and RF whereas its needed for KNN, NN, Gradient descent usually\r\n",
        "##G\r\n",
        "##Age is non uniform hence performing Standardization to make it a normal distribution\r\n",
        "\r\n",
        "from sklearn.preprocessing import MinMaxScaler\r\n",
        "\r\n",
        "\r\n",
        "stdscaler=MinMaxScaler()\r\n",
        "data['AgeYrs']=stdscaler.fit_transform(data[['AgeYrs']])"
      ],
      "execution_count": null,
      "outputs": []
    },
    {
      "cell_type": "code",
      "metadata": {
        "colab": {
          "base_uri": "https://localhost:8080/"
        },
        "id": "30zlftI2W9ea",
        "outputId": "9f0153e9-d292-4afa-98a5-70c3cd947925"
      },
      "source": [
        "#One hot encoding for categorical variable for variables with levels <=10\r\n",
        "# data=pd.get_dummies(data,columns=['MaritalStatus','Sex','BedCategory','Department','InsPayorcategory','STATEZONE'])\r\n",
        "strcatlist=['MaritalStatus','Sex','BedCategory','Department','InsPayorcategory','State','Country','STATEZONE']\r\n",
        "\r\n",
        "for i in strcatlist:\r\n",
        "  print('No of unique values in {} are {}'.format(i,len(np.unique(data[i]))))\r\n",
        "  if len(np.unique(data[i]))<=10:\r\n",
        "    data=pd.get_dummies(data,columns=[i])\r\n"
      ],
      "execution_count": 26,
      "outputs": [
        {
          "output_type": "stream",
          "text": [
            "No of unique values in MaritalStatus are 5\n",
            "No of unique values in Sex are 2\n",
            "No of unique values in BedCategory are 11\n",
            "No of unique values in Department are 7\n",
            "No of unique values in InsPayorcategory are 5\n",
            "No of unique values in State are 57\n",
            "No of unique values in Country are 29\n",
            "No of unique values in STATEZONE are 7\n"
          ],
          "name": "stdout"
        }
      ]
    },
    {
      "cell_type": "code",
      "metadata": {
        "colab": {
          "base_uri": "https://localhost:8080/"
        },
        "id": "6SczIuGjhKSC",
        "outputId": "cfaa9eec-8fbb-4d2c-db51-cca6faf8b683"
      },
      "source": [
        "##One hot Encoding for Features with more than 10 levels, We just take top 10 categories\r\n",
        "##Bed Category, State, Country\r\n",
        "data.BedCategory.value_counts().sort_values(ascending= False).head(20)\r\n",
        "\r\n",
        "top_10_bed=[x for x in data.BedCategory.value_counts().sort_values(ascending= False).head(10).index ]\r\n",
        "top_10_bed"
      ],
      "execution_count": 27,
      "outputs": [
        {
          "output_type": "execute_result",
          "data": {
            "text/plain": [
              "['SEMISPECIAL',\n",
              " 'GENERAL',\n",
              " 'SPECIAL',\n",
              " 'ULTRA SPL',\n",
              " 'GENERAL HD',\n",
              " 'DAYCARE',\n",
              " 'ULTRA DLX',\n",
              " 'SEMISPECIAL HD',\n",
              " 'Renal ICU',\n",
              " 'ITU']"
            ]
          },
          "metadata": {
            "tags": []
          },
          "execution_count": 27
        }
      ]
    },
    {
      "cell_type": "code",
      "metadata": {
        "id": "isKDiE21DciG"
      },
      "source": [
        "for label in top_10_bed:\r\n",
        "  data[label]=np.where(data['BedCategory']==label,1,0)"
      ],
      "execution_count": 28,
      "outputs": []
    },
    {
      "cell_type": "code",
      "metadata": {
        "id": "MoWzHpS3Eeax"
      },
      "source": [
        "##Function for One Hot Encoding\r\n",
        "def one_hot_encode(df,variable,top_10):\r\n",
        "  for label in top_10:\r\n",
        "    data[label]=np.where(data[variable]==label,1,0)\r\n"
      ],
      "execution_count": 29,
      "outputs": []
    },
    {
      "cell_type": "code",
      "metadata": {
        "id": "brKcPgYNFgpz"
      },
      "source": [
        "##one hot Encoding for State\r\n",
        "top_10=[x for x in data.State.value_counts().sort_values(ascending=False).head(10).index]\r\n",
        "one_hot_encode(data,'State',top_10)"
      ],
      "execution_count": 30,
      "outputs": []
    },
    {
      "cell_type": "code",
      "metadata": {
        "id": "wukIHPwSGnvR"
      },
      "source": [
        "##one hot Encoding for Country\r\n",
        "top_10=[x for x in data.Country.value_counts().sort_values(ascending=False).head(10).index]\r\n",
        "one_hot_encode(data,'Country',top_10)"
      ],
      "execution_count": 31,
      "outputs": []
    },
    {
      "cell_type": "code",
      "metadata": {
        "id": "fz3XsyOqHmqw"
      },
      "source": [
        "##Dropping original variables after creating dummy variables\r\n",
        "data=data.drop(labels=['State','Country','BedCategory'],axis=1)"
      ],
      "execution_count": 32,
      "outputs": []
    },
    {
      "cell_type": "code",
      "metadata": {
        "id": "g2A7ZeG1JlUO",
        "colab": {
          "base_uri": "https://localhost:8080/",
          "height": 278
        },
        "outputId": "d02b82a0-2614-4133-e80c-a05390554443"
      },
      "source": [
        "##Checkging for Multicollinearity\r\n",
        "##I can also use Corr Plot to see collinearity\r\n",
        "##For Multicollinearity if small set of features -> VIF else if more no of features -> Ridge or Lasso\r\n",
        "##VIF starts from 1 -> Infinity\r\n",
        "from statsmodels.stats.outliers_influence import variance_inflation_factor\r\n",
        "\r\n",
        "##Independent int variables\r\n",
        "X=data[['AgeYrs','Estimatedcost','LengthofStay']]\r\n",
        "\r\n",
        "##VIF Dataframe\r\n",
        "vif_data = pd.DataFrame() \r\n",
        "vif_data[\"feature\"] = X.columns \r\n",
        "\r\n",
        "##Calculating VIF for each feature\r\n",
        "vif_data[\"VIF\"] = [variance_inflation_factor(X.values, i) \r\n",
        "                          for i in range(len(X.columns))] \r\n",
        "  \r\n",
        "print(vif_data)\r\n",
        "\r\n",
        "##Seems like no strong Multicollinearity\r\n",
        "\r\n",
        "X.corr()"
      ],
      "execution_count": 33,
      "outputs": [
        {
          "output_type": "stream",
          "text": [
            "         feature       VIF\n",
            "0         AgeYrs  1.766420\n",
            "1  Estimatedcost  1.791102\n",
            "2   LengthofStay  1.753535\n"
          ],
          "name": "stdout"
        },
        {
          "output_type": "stream",
          "text": [
            "/usr/local/lib/python3.6/dist-packages/statsmodels/tools/_testing.py:19: FutureWarning:\n",
            "\n",
            "pandas.util.testing is deprecated. Use the functions in the public API at pandas.testing instead.\n",
            "\n"
          ],
          "name": "stderr"
        },
        {
          "output_type": "execute_result",
          "data": {
            "text/html": [
              "<div>\n",
              "<style scoped>\n",
              "    .dataframe tbody tr th:only-of-type {\n",
              "        vertical-align: middle;\n",
              "    }\n",
              "\n",
              "    .dataframe tbody tr th {\n",
              "        vertical-align: top;\n",
              "    }\n",
              "\n",
              "    .dataframe thead th {\n",
              "        text-align: right;\n",
              "    }\n",
              "</style>\n",
              "<table border=\"1\" class=\"dataframe\">\n",
              "  <thead>\n",
              "    <tr style=\"text-align: right;\">\n",
              "      <th></th>\n",
              "      <th>AgeYrs</th>\n",
              "      <th>Estimatedcost</th>\n",
              "      <th>LengthofStay</th>\n",
              "    </tr>\n",
              "  </thead>\n",
              "  <tbody>\n",
              "    <tr>\n",
              "      <th>AgeYrs</th>\n",
              "      <td>1.000000</td>\n",
              "      <td>0.114673</td>\n",
              "      <td>0.043928</td>\n",
              "    </tr>\n",
              "    <tr>\n",
              "      <th>Estimatedcost</th>\n",
              "      <td>0.114673</td>\n",
              "      <td>1.000000</td>\n",
              "      <td>0.302158</td>\n",
              "    </tr>\n",
              "    <tr>\n",
              "      <th>LengthofStay</th>\n",
              "      <td>0.043928</td>\n",
              "      <td>0.302158</td>\n",
              "      <td>1.000000</td>\n",
              "    </tr>\n",
              "  </tbody>\n",
              "</table>\n",
              "</div>"
            ],
            "text/plain": [
              "                 AgeYrs  Estimatedcost  LengthofStay\n",
              "AgeYrs         1.000000       0.114673      0.043928\n",
              "Estimatedcost  0.114673       1.000000      0.302158\n",
              "LengthofStay   0.043928       0.302158      1.000000"
            ]
          },
          "metadata": {
            "tags": []
          },
          "execution_count": 33
        }
      ]
    },
    {
      "cell_type": "code",
      "metadata": {
        "id": "tx5VL5cxiXds"
      },
      "source": [
        "##To Segregate Numeric and Categorical variables\r\n",
        "ls=list(data.columns.values)\r\n",
        "\r\n",
        "for i in ls:\r\n",
        "  if i in numlist:\r\n",
        "    ls.remove(i)"
      ],
      "execution_count": 34,
      "outputs": []
    },
    {
      "cell_type": "code",
      "metadata": {
        "id": "pqHbF_Z7kKAi"
      },
      "source": [
        "for i in ls:\r\n",
        "  data[i]=data[i].astype('object')\r\n",
        "data['Estimatedcost']=data['Estimatedcost'].astype('int')\r\n",
        "data['LengthofStay']=data['LengthofStay'].astype('int')"
      ],
      "execution_count": 35,
      "outputs": []
    },
    {
      "cell_type": "code",
      "metadata": {
        "id": "BqII4R9ejspo"
      },
      "source": [
        "Y=data['NPS_Status']\r\n",
        "data=data.drop('NPS_Status',axis=1)\r\n",
        "X=data.iloc[:,:]"
      ],
      "execution_count": 36,
      "outputs": []
    },
    {
      "cell_type": "code",
      "metadata": {
        "id": "M2VV7qQfnoaK"
      },
      "source": [
        "X=X.drop(['AdmissionDate','DischargeDate','CE_NPS'],axis=1)\r\n"
      ],
      "execution_count": 37,
      "outputs": []
    },
    {
      "cell_type": "code",
      "metadata": {
        "id": "BctJnuFx9kvD"
      },
      "source": [
        "##Feature Selection Methods\r\n",
        "\r\n",
        "##1 - > Univariate selection\r\n",
        "## For Med - Small Datasets use Backward Elimintaion, Forward selection, Recursive feature Extraction \r\n",
        "##Embedded Methods - These methods randomly select all possible combinations of variables and select the best possible combination\r\n",
        "\r\n",
        "from sklearn.feature_selection import SelectKBest\r\n",
        "from sklearn.feature_selection import chi2\r\n",
        "\r\n",
        "ordered_rank_feature=SelectKBest(score_func=chi2)\r\n",
        "ranks=ordered_rank_feature.fit(X,Y)\r\n",
        "\r\n"
      ],
      "execution_count": 38,
      "outputs": []
    },
    {
      "cell_type": "code",
      "metadata": {
        "id": "xEvwPrBVn-rm"
      },
      "source": [
        "scores=pd.DataFrame(ranks.scores_,columns=['Scores'])\r\n",
        "cols=pd.DataFrame(X.columns)"
      ],
      "execution_count": 39,
      "outputs": []
    },
    {
      "cell_type": "code",
      "metadata": {
        "id": "gH6E3BUkoUIG"
      },
      "source": [
        "feature_rank=pd.concat([scores,cols],axis=1)\r\n",
        "feature_rank.columns=['Scores','Columns']\r\n"
      ],
      "execution_count": 40,
      "outputs": []
    },
    {
      "cell_type": "code",
      "metadata": {
        "colab": {
          "base_uri": "https://localhost:8080/",
          "height": 1000
        },
        "id": "K6sGYu4XpP0B",
        "outputId": "f65615b8-aebe-400f-e2d6-7046744be306"
      },
      "source": [
        "feature_rank.nlargest(50,'Scores')##Top 10 important variables"
      ],
      "execution_count": 41,
      "outputs": [
        {
          "output_type": "execute_result",
          "data": {
            "text/html": [
              "<div>\n",
              "<style scoped>\n",
              "    .dataframe tbody tr th:only-of-type {\n",
              "        vertical-align: middle;\n",
              "    }\n",
              "\n",
              "    .dataframe tbody tr th {\n",
              "        vertical-align: top;\n",
              "    }\n",
              "\n",
              "    .dataframe thead th {\n",
              "        text-align: right;\n",
              "    }\n",
              "</style>\n",
              "<table border=\"1\" class=\"dataframe\">\n",
              "  <thead>\n",
              "    <tr style=\"text-align: right;\">\n",
              "      <th></th>\n",
              "      <th>Scores</th>\n",
              "      <th>Columns</th>\n",
              "    </tr>\n",
              "  </thead>\n",
              "  <tbody>\n",
              "    <tr>\n",
              "      <th>1</th>\n",
              "      <td>905601.694937</td>\n",
              "      <td>Estimatedcost</td>\n",
              "    </tr>\n",
              "    <tr>\n",
              "      <th>0</th>\n",
              "      <td>256.536581</td>\n",
              "      <td>AgeYrs</td>\n",
              "    </tr>\n",
              "    <tr>\n",
              "      <th>4</th>\n",
              "      <td>146.962734</td>\n",
              "      <td>CE_VALUEFORMONEY</td>\n",
              "    </tr>\n",
              "    <tr>\n",
              "      <th>3</th>\n",
              "      <td>103.683774</td>\n",
              "      <td>CE_CSAT</td>\n",
              "    </tr>\n",
              "    <tr>\n",
              "      <th>34</th>\n",
              "      <td>98.200681</td>\n",
              "      <td>DP_DISCHARGETIME</td>\n",
              "    </tr>\n",
              "    <tr>\n",
              "      <th>22</th>\n",
              "      <td>98.124673</td>\n",
              "      <td>AE_ATTENDEEFOOD</td>\n",
              "    </tr>\n",
              "    <tr>\n",
              "      <th>36</th>\n",
              "      <td>83.706629</td>\n",
              "      <td>DP_DISCHARGEPROCESS</td>\n",
              "    </tr>\n",
              "    <tr>\n",
              "      <th>16</th>\n",
              "      <td>79.178343</td>\n",
              "      <td>FNB_FOODQUALITY</td>\n",
              "    </tr>\n",
              "    <tr>\n",
              "      <th>17</th>\n",
              "      <td>77.517693</td>\n",
              "      <td>FNB_FOODDELIVERYTIME</td>\n",
              "    </tr>\n",
              "    <tr>\n",
              "      <th>10</th>\n",
              "      <td>75.454666</td>\n",
              "      <td>AD_TARRIFFPACKAGESEXPLAINATION</td>\n",
              "    </tr>\n",
              "    <tr>\n",
              "      <th>35</th>\n",
              "      <td>70.078617</td>\n",
              "      <td>DP_DISCHARGEQUERIES</td>\n",
              "    </tr>\n",
              "    <tr>\n",
              "      <th>15</th>\n",
              "      <td>65.184061</td>\n",
              "      <td>INR_ROOMAMBIENCE</td>\n",
              "    </tr>\n",
              "    <tr>\n",
              "      <th>18</th>\n",
              "      <td>61.152748</td>\n",
              "      <td>FNB_DIETICIAN</td>\n",
              "    </tr>\n",
              "    <tr>\n",
              "      <th>2</th>\n",
              "      <td>61.048473</td>\n",
              "      <td>CE_ACCESSIBILITY</td>\n",
              "    </tr>\n",
              "    <tr>\n",
              "      <th>13</th>\n",
              "      <td>59.065981</td>\n",
              "      <td>INR_ROOMPEACE</td>\n",
              "    </tr>\n",
              "    <tr>\n",
              "      <th>21</th>\n",
              "      <td>48.887779</td>\n",
              "      <td>AE_PATIENTSTATUSINFO</td>\n",
              "    </tr>\n",
              "    <tr>\n",
              "      <th>9</th>\n",
              "      <td>48.573143</td>\n",
              "      <td>AD_TIME</td>\n",
              "    </tr>\n",
              "    <tr>\n",
              "      <th>14</th>\n",
              "      <td>47.764379</td>\n",
              "      <td>INR_ROOMEQUIPMENT</td>\n",
              "    </tr>\n",
              "    <tr>\n",
              "      <th>12</th>\n",
              "      <td>47.604198</td>\n",
              "      <td>INR_ROOMCLEANLINESS</td>\n",
              "    </tr>\n",
              "    <tr>\n",
              "      <th>37</th>\n",
              "      <td>46.711763</td>\n",
              "      <td>LengthofStay</td>\n",
              "    </tr>\n",
              "    <tr>\n",
              "      <th>20</th>\n",
              "      <td>46.695987</td>\n",
              "      <td>AE_ATTENDEECARE</td>\n",
              "    </tr>\n",
              "    <tr>\n",
              "      <th>65</th>\n",
              "      <td>40.824675</td>\n",
              "      <td>GENERAL</td>\n",
              "    </tr>\n",
              "    <tr>\n",
              "      <th>54</th>\n",
              "      <td>38.976203</td>\n",
              "      <td>InsPayorcategory_INSURANCE</td>\n",
              "    </tr>\n",
              "    <tr>\n",
              "      <th>25</th>\n",
              "      <td>37.908707</td>\n",
              "      <td>DOC_VISITS</td>\n",
              "    </tr>\n",
              "    <tr>\n",
              "      <th>19</th>\n",
              "      <td>34.697375</td>\n",
              "      <td>FNB_STAFFATTITUDE</td>\n",
              "    </tr>\n",
              "    <tr>\n",
              "      <th>11</th>\n",
              "      <td>34.449841</td>\n",
              "      <td>AD_STAFFATTITUDE</td>\n",
              "    </tr>\n",
              "    <tr>\n",
              "      <th>32</th>\n",
              "      <td>34.410036</td>\n",
              "      <td>OVS_OVERALLSTAFFPROMPTNESS</td>\n",
              "    </tr>\n",
              "    <tr>\n",
              "      <th>75</th>\n",
              "      <td>25.787648</td>\n",
              "      <td>West Bengal</td>\n",
              "    </tr>\n",
              "    <tr>\n",
              "      <th>8</th>\n",
              "      <td>23.210938</td>\n",
              "      <td>EM_OVERALL</td>\n",
              "    </tr>\n",
              "    <tr>\n",
              "      <th>58</th>\n",
              "      <td>22.770924</td>\n",
              "      <td>STATEZONE_EAST</td>\n",
              "    </tr>\n",
              "    <tr>\n",
              "      <th>26</th>\n",
              "      <td>20.383762</td>\n",
              "      <td>DOC_TREATMENTEFFECTIVENESS</td>\n",
              "    </tr>\n",
              "    <tr>\n",
              "      <th>53</th>\n",
              "      <td>19.075304</td>\n",
              "      <td>InsPayorcategory_EXEMPTION</td>\n",
              "    </tr>\n",
              "    <tr>\n",
              "      <th>29</th>\n",
              "      <td>18.080927</td>\n",
              "      <td>NS_NURSEPROACTIVENESS</td>\n",
              "    </tr>\n",
              "    <tr>\n",
              "      <th>5</th>\n",
              "      <td>17.547006</td>\n",
              "      <td>EM_IMMEDIATEATTENTION</td>\n",
              "    </tr>\n",
              "    <tr>\n",
              "      <th>23</th>\n",
              "      <td>17.191103</td>\n",
              "      <td>DOC_TREATMENTEXPLAINATION</td>\n",
              "    </tr>\n",
              "    <tr>\n",
              "      <th>30</th>\n",
              "      <td>16.843383</td>\n",
              "      <td>NS_NURSEPATIENCE</td>\n",
              "    </tr>\n",
              "    <tr>\n",
              "      <th>33</th>\n",
              "      <td>16.711153</td>\n",
              "      <td>OVS_SECURITYATTITUDE</td>\n",
              "    </tr>\n",
              "    <tr>\n",
              "      <th>49</th>\n",
              "      <td>15.876147</td>\n",
              "      <td>Department_PEDIATRIC</td>\n",
              "    </tr>\n",
              "    <tr>\n",
              "      <th>6</th>\n",
              "      <td>15.066684</td>\n",
              "      <td>EM_NURSING</td>\n",
              "    </tr>\n",
              "    <tr>\n",
              "      <th>31</th>\n",
              "      <td>14.533352</td>\n",
              "      <td>OVS_OVERALLSTAFFATTITUDE</td>\n",
              "    </tr>\n",
              "    <tr>\n",
              "      <th>24</th>\n",
              "      <td>14.036293</td>\n",
              "      <td>DOC_ATTITUDE</td>\n",
              "    </tr>\n",
              "    <tr>\n",
              "      <th>27</th>\n",
              "      <td>13.734138</td>\n",
              "      <td>NS_CALLBELLRESPONSE</td>\n",
              "    </tr>\n",
              "    <tr>\n",
              "      <th>64</th>\n",
              "      <td>13.068404</td>\n",
              "      <td>SEMISPECIAL</td>\n",
              "    </tr>\n",
              "    <tr>\n",
              "      <th>7</th>\n",
              "      <td>12.151543</td>\n",
              "      <td>EM_DOCTOR</td>\n",
              "    </tr>\n",
              "    <tr>\n",
              "      <th>66</th>\n",
              "      <td>11.112151</td>\n",
              "      <td>SPECIAL</td>\n",
              "    </tr>\n",
              "    <tr>\n",
              "      <th>45</th>\n",
              "      <td>11.093696</td>\n",
              "      <td>Department_CARDIOLOGY</td>\n",
              "    </tr>\n",
              "    <tr>\n",
              "      <th>59</th>\n",
              "      <td>10.893949</td>\n",
              "      <td>STATEZONE_INTERNATIONAL</td>\n",
              "    </tr>\n",
              "    <tr>\n",
              "      <th>41</th>\n",
              "      <td>10.039864</td>\n",
              "      <td>MaritalStatus_Single</td>\n",
              "    </tr>\n",
              "    <tr>\n",
              "      <th>38</th>\n",
              "      <td>8.938247</td>\n",
              "      <td>MaritalStatus_Divorced</td>\n",
              "    </tr>\n",
              "    <tr>\n",
              "      <th>80</th>\n",
              "      <td>8.130137</td>\n",
              "      <td>Tanzania</td>\n",
              "    </tr>\n",
              "  </tbody>\n",
              "</table>\n",
              "</div>"
            ],
            "text/plain": [
              "           Scores                         Columns\n",
              "1   905601.694937                   Estimatedcost\n",
              "0      256.536581                          AgeYrs\n",
              "4      146.962734                CE_VALUEFORMONEY\n",
              "3      103.683774                         CE_CSAT\n",
              "34      98.200681                DP_DISCHARGETIME\n",
              "22      98.124673                 AE_ATTENDEEFOOD\n",
              "36      83.706629             DP_DISCHARGEPROCESS\n",
              "16      79.178343                 FNB_FOODQUALITY\n",
              "17      77.517693            FNB_FOODDELIVERYTIME\n",
              "10      75.454666  AD_TARRIFFPACKAGESEXPLAINATION\n",
              "35      70.078617             DP_DISCHARGEQUERIES\n",
              "15      65.184061                INR_ROOMAMBIENCE\n",
              "18      61.152748                   FNB_DIETICIAN\n",
              "2       61.048473                CE_ACCESSIBILITY\n",
              "13      59.065981                   INR_ROOMPEACE\n",
              "21      48.887779            AE_PATIENTSTATUSINFO\n",
              "9       48.573143                         AD_TIME\n",
              "14      47.764379               INR_ROOMEQUIPMENT\n",
              "12      47.604198             INR_ROOMCLEANLINESS\n",
              "37      46.711763                    LengthofStay\n",
              "20      46.695987                 AE_ATTENDEECARE\n",
              "65      40.824675                         GENERAL\n",
              "54      38.976203      InsPayorcategory_INSURANCE\n",
              "25      37.908707                      DOC_VISITS\n",
              "19      34.697375               FNB_STAFFATTITUDE\n",
              "11      34.449841                AD_STAFFATTITUDE\n",
              "32      34.410036      OVS_OVERALLSTAFFPROMPTNESS\n",
              "75      25.787648                     West Bengal\n",
              "8       23.210938                      EM_OVERALL\n",
              "58      22.770924                  STATEZONE_EAST\n",
              "26      20.383762      DOC_TREATMENTEFFECTIVENESS\n",
              "53      19.075304      InsPayorcategory_EXEMPTION\n",
              "29      18.080927           NS_NURSEPROACTIVENESS\n",
              "5       17.547006           EM_IMMEDIATEATTENTION\n",
              "23      17.191103       DOC_TREATMENTEXPLAINATION\n",
              "30      16.843383                NS_NURSEPATIENCE\n",
              "33      16.711153            OVS_SECURITYATTITUDE\n",
              "49      15.876147            Department_PEDIATRIC\n",
              "6       15.066684                      EM_NURSING\n",
              "31      14.533352        OVS_OVERALLSTAFFATTITUDE\n",
              "24      14.036293                    DOC_ATTITUDE\n",
              "27      13.734138             NS_CALLBELLRESPONSE\n",
              "64      13.068404                     SEMISPECIAL\n",
              "7       12.151543                       EM_DOCTOR\n",
              "66      11.112151                         SPECIAL\n",
              "45      11.093696           Department_CARDIOLOGY\n",
              "59      10.893949         STATEZONE_INTERNATIONAL\n",
              "41      10.039864            MaritalStatus_Single\n",
              "38       8.938247          MaritalStatus_Divorced\n",
              "80       8.130137                        Tanzania"
            ]
          },
          "metadata": {
            "tags": []
          },
          "execution_count": 41
        }
      ]
    },
    {
      "cell_type": "code",
      "metadata": {
        "colab": {
          "base_uri": "https://localhost:8080/"
        },
        "id": "8QSx35PqrJai",
        "outputId": "71665956-2acf-4bd3-f540-5e877633837f"
      },
      "source": [
        "##feature Importance using Ensemble Extra tree CLassifier\r\n",
        "\r\n",
        "from sklearn.ensemble import ExtraTreesClassifier\r\n",
        "import matplotlib.pyplot as plt\r\n",
        "\r\n",
        "model=ExtraTreesClassifier()\r\n",
        "model.fit(X,Y)\r\n",
        "\r\n",
        "print(model.feature_importances_)"
      ],
      "execution_count": 42,
      "outputs": [
        {
          "output_type": "stream",
          "text": [
            "[4.72009576e-02 4.37286504e-02 2.92026837e-02 4.54846492e-02\n",
            " 4.54109472e-02 1.19655554e-02 1.00659591e-02 8.60358423e-03\n",
            " 1.24774743e-02 1.93787216e-02 2.10002168e-02 1.47719598e-02\n",
            " 1.87135519e-02 1.66427074e-02 1.64834734e-02 1.69166778e-02\n",
            " 2.28579953e-02 2.03916485e-02 1.65501312e-02 1.46934134e-02\n",
            " 1.49537604e-02 1.63914525e-02 2.39119933e-02 1.11592218e-02\n",
            " 1.18382324e-02 1.66815198e-02 1.17636984e-02 1.09232431e-02\n",
            " 8.86415981e-03 1.12412857e-02 9.26439595e-03 9.98326377e-03\n",
            " 1.33135072e-02 1.20409526e-02 2.19433728e-02 1.83532814e-02\n",
            " 2.05720178e-02 4.07299342e-02 4.16221494e-05 1.03122484e-02\n",
            " 9.38743259e-06 1.05311560e-02 1.59474997e-04 1.52217615e-02\n",
            " 1.48989465e-02 6.56321543e-03 1.66123810e-02 6.83669225e-03\n",
            " 7.19722791e-03 8.38358145e-03 4.54046158e-03 1.12224518e-02\n",
            " 7.89311258e-03 7.05676101e-03 1.51993429e-02 1.63070058e-03\n",
            " 1.56562691e-02 3.79437530e-04 3.47340415e-03 9.91493439e-04\n",
            " 1.11979474e-03 5.55183053e-03 1.65607325e-03 9.13174656e-04\n",
            " 1.55897203e-02 1.56673248e-02 1.26339942e-02 6.75249450e-03\n",
            " 2.87439027e-03 3.29851016e-03 2.60520711e-03 7.86176476e-04\n",
            " 1.02167238e-05 2.56375888e-05 9.51567959e-03 3.16694522e-03\n",
            " 5.08369719e-03 3.21018250e-03 1.58933512e-03 1.93680414e-03\n",
            " 2.05435695e-04 8.37692663e-04 3.24481434e-04 5.57932778e-04\n",
            " 1.18478257e-03 2.41938854e-04 5.38349824e-05 4.49130605e-04\n",
            " 4.30824441e-04 2.67764269e-05 3.90041941e-05 1.89199628e-04\n",
            " 5.40490562e-05 1.36346535e-04]\n"
          ],
          "name": "stdout"
        }
      ]
    },
    {
      "cell_type": "code",
      "metadata": {
        "colab": {
          "base_uri": "https://localhost:8080/",
          "height": 457
        },
        "id": "HROUOrSnrszW",
        "outputId": "137b42e7-9b6c-44cf-ed15-0a7f8653fd9b"
      },
      "source": [
        "featr_imp_score=pd.Series(model.feature_importances_,index=X.columns)\r\n",
        "featr_imp_score.nlargest(20).plot(kind='bar')\r\n"
      ],
      "execution_count": 45,
      "outputs": [
        {
          "output_type": "execute_result",
          "data": {
            "text/plain": [
              "<matplotlib.axes._subplots.AxesSubplot at 0x7fd13b18e6a0>"
            ]
          },
          "metadata": {
            "tags": []
          },
          "execution_count": 45
        },
        {
          "output_type": "display_data",
          "data": {
            "image/png": "[encoded data removed]",
            "text/plain": [
              "<Figure size 432x288 with 1 Axes>"
            ]
          },
          "metadata": {
            "tags": [],
            "needs_background": "light"
          }
        }
      ]
    },
    {
      "cell_type": "code",
      "metadata": {
        "id": "FHgrHYwYZxhq"
      },
      "source": [
        "##Train Test Split 80% for Train and 20% Test\r\n",
        "\r\n",
        "from sklearn.model_selection import train_test_split\r\n",
        "\r\n",
        "X_train,X_test,Y_train,Y_test=train_test_split(X,Y,test_size=0.2,random_state=33 )"
      ],
      "execution_count": 48,
      "outputs": []
    },
    {
      "cell_type": "code",
      "metadata": {
        "colab": {
          "base_uri": "https://localhost:8080/"
        },
        "id": "AjCt_NzxaUw9",
        "outputId": "cde3baa7-2085-4eb7-d3b9-9e75bf18a688"
      },
      "source": [
        "print(X_train.shape)\r\n",
        "print(X_test.shape)\r\n",
        "print(Y_train.shape)\r\n",
        "print(Y_test.shape)"
      ],
      "execution_count": 54,
      "outputs": [
        {
          "output_type": "stream",
          "text": [
            "(3991, 94)\n",
            "(998, 94)\n",
            "(3991,)\n",
            "(998,)\n"
          ],
          "name": "stdout"
        }
      ]
    },
    {
      "cell_type": "code",
      "metadata": {
        "id": "O5gzzBngZcit"
      },
      "source": [
        "##Building a Random Forest Model with all the Variables\r\n",
        "from sklearn.ensemble import RandomForestClassifier\r\n",
        "\r\n",
        "model=RandomForestClassifier(n_estimators=10).fit(X_train,Y_train)\r\n",
        "pred=model.predict(X_test)"
      ],
      "execution_count": 56,
      "outputs": []
    },
    {
      "cell_type": "code",
      "metadata": {
        "colab": {
          "base_uri": "https://localhost:8080/"
        },
        "id": "jR2udypSa-VM",
        "outputId": "8a3266d2-8d00-4add-b0f5-6151c8109548"
      },
      "source": [
        "from sklearn.metrics import accuracy_score,confusion_matrix,classification_report\r\n",
        "\r\n",
        "print(confusion_matrix(pred,Y_test))\r\n",
        "print(accuracy_score(pred,Y_test))\r\n",
        "print(classification_report(pred,Y_test))\r\n"
      ],
      "execution_count": 57,
      "outputs": [
        {
          "output_type": "stream",
          "text": [
            "[[ 35  20  11]\n",
            " [ 29 104  99]\n",
            " [ 33 137 530]]\n",
            "0.6703406813627254\n",
            "              precision    recall  f1-score   support\n",
            "\n",
            "   Detractor       0.36      0.53      0.43        66\n",
            "     Passive       0.40      0.45      0.42       232\n",
            "    Promotor       0.83      0.76      0.79       700\n",
            "\n",
            "    accuracy                           0.67       998\n",
            "   macro avg       0.53      0.58      0.55       998\n",
            "weighted avg       0.70      0.67      0.68       998\n",
            "\n"
          ],
          "name": "stdout"
        }
      ]
    },
    {
      "cell_type": "code",
      "metadata": {
        "id": "Rcl6yN0tdp_4"
      },
      "source": [
        "##Hyper Paramater Tuning using Randomized Search CV\r\n",
        "import numpy as np\r\n",
        "from sklearn.model_selection import RandomizedSearchCV\r\n",
        "\r\n",
        "##No of trees in your RF\r\n",
        "n_estimators=[int(x) for x in np.linspace(start=200,stop=2000,num=10) ]\r\n",
        "\r\n",
        "##Max No of Featires considered for each decision tree in RF\r\n",
        "max_features=[\"auto\",\"log2\",\"sqrt\"]\r\n",
        "\r\n",
        "##Maximum Number of levels in trees\r\n",
        "max_depth=[int(x) for x in np.linspace(10,1000,10)]\r\n",
        "\r\n",
        "##Minimum samples required to split a node\r\n",
        "min_samples_split=[2,5,10,14]\r\n",
        "\r\n",
        "\r\n",
        "##Minimum number of samples required at each leaf node\r\n",
        "min_samples_leaf=[1,2,4,6,8]\r\n",
        "\r\n",
        "##Create the Random Grid\r\n",
        "\r\n",
        "Random_Grid={\r\n",
        "    \r\n",
        "    \"n_estimators\":n_estimators,\r\n",
        "    \"max_features\":max_features,\r\n",
        "    \"max_depth\":max_depth,\r\n",
        "    \"min_samples_split\":min_samples_split,\r\n",
        "    \"min_samples_leaf\":min_samples_leaf,\r\n",
        "    \"criterion\":[\"gini\",\"entropy\"]\r\n",
        "\r\n",
        "}\r\n"
      ],
      "execution_count": 65,
      "outputs": []
    },
    {
      "cell_type": "code",
      "metadata": {
        "colab": {
          "base_uri": "https://localhost:8080/"
        },
        "id": "XNCTDm2whdPO",
        "outputId": "b76ac751-bdf3-4233-eaba-5ffc3c2b8d8e"
      },
      "source": [
        "##Building the RF model using the created parameter\r\n",
        "\r\n",
        "rf=RandomForestClassifier()\r\n",
        "\r\n",
        "rf_randomcv=RandomizedSearchCV(estimator=rf,param_distributions=Random_Grid\r\n",
        "                               ,n_iter=100,cv=3,verbose=2,n_jobs=-1,random_state=100)\r\n",
        "\r\n",
        "##Fit the Randomized model\r\n",
        "rf_randomcv.fit(X_train,Y_train)"
      ],
      "execution_count": 68,
      "outputs": [
        {
          "output_type": "stream",
          "text": [
            "Fitting 3 folds for each of 100 candidates, totalling 300 fits\n"
          ],
          "name": "stdout"
        },
        {
          "output_type": "stream",
          "text": [
            "[Parallel(n_jobs=-1)]: Using backend LokyBackend with 2 concurrent workers.\n",
            "[Parallel(n_jobs=-1)]: Done  37 tasks      | elapsed:  2.1min\n",
            "/usr/local/lib/python3.6/dist-packages/joblib/externals/loky/process_executor.py:691: UserWarning:\n",
            "\n",
            "A worker stopped while some jobs were given to the executor. This can be caused by a too short worker timeout or by a memory leak.\n",
            "\n",
            "[Parallel(n_jobs=-1)]: Done 158 tasks      | elapsed:  9.3min\n",
            "[Parallel(n_jobs=-1)]: Done 300 out of 300 | elapsed: 18.4min finished\n"
          ],
          "name": "stderr"
        },
        {
          "output_type": "execute_result",
          "data": {
            "text/plain": [
              "RandomizedSearchCV(cv=3, error_score=nan,\n",
              "                   estimator=RandomForestClassifier(bootstrap=True,\n",
              "                                                    ccp_alpha=0.0,\n",
              "                                                    class_weight=None,\n",
              "                                                    criterion='gini',\n",
              "                                                    max_depth=None,\n",
              "                                                    max_features='auto',\n",
              "                                                    max_leaf_nodes=None,\n",
              "                                                    max_samples=None,\n",
              "                                                    min_impurity_decrease=0.0,\n",
              "                                                    min_impurity_split=None,\n",
              "                                                    min_samples_leaf=1,\n",
              "                                                    min_samples_split=2,\n",
              "                                                    min_weight_fraction_leaf=0.0,\n",
              "                                                    n_estimators=100,\n",
              "                                                    n_jobs...\n",
              "                   param_distributions={'criterion': ['gini', 'entropy'],\n",
              "                                        'max_depth': [10, 120, 230, 340, 450,\n",
              "                                                      560, 670, 780, 890,\n",
              "                                                      1000],\n",
              "                                        'max_features': ['auto', 'log2',\n",
              "                                                         'sqrt'],\n",
              "                                        'min_samples_leaf': [1, 2, 4, 6, 8],\n",
              "                                        'min_samples_split': [2, 5, 10, 14],\n",
              "                                        'n_estimators': [200, 400, 600, 800,\n",
              "                                                         1000, 1200, 1400, 1600,\n",
              "                                                         1800, 2000]},\n",
              "                   pre_dispatch='2*n_jobs', random_state=100, refit=True,\n",
              "                   return_train_score=False, scoring=None, verbose=2)"
            ]
          },
          "metadata": {
            "tags": []
          },
          "execution_count": 68
        }
      ]
    },
    {
      "cell_type": "code",
      "metadata": {
        "colab": {
          "base_uri": "https://localhost:8080/"
        },
        "id": "lJ6-huBKi_Ji",
        "outputId": "127c34f1-bb53-45b7-956d-906cd00e79a8"
      },
      "source": [
        "rf_randomcv.best_params_"
      ],
      "execution_count": 69,
      "outputs": [
        {
          "output_type": "execute_result",
          "data": {
            "text/plain": [
              "{'criterion': 'gini',\n",
              " 'max_depth': 340,\n",
              " 'max_features': 'sqrt',\n",
              " 'min_samples_leaf': 2,\n",
              " 'min_samples_split': 2,\n",
              " 'n_estimators': 200}"
            ]
          },
          "metadata": {
            "tags": []
          },
          "execution_count": 69
        }
      ]
    },
    {
      "cell_type": "code",
      "metadata": {
        "id": "tgHBNC34jJsF"
      },
      "source": [
        "best_estimator_grid=rf_randomcv.best_estimator_"
      ],
      "execution_count": 70,
      "outputs": []
    },
    {
      "cell_type": "code",
      "metadata": {
        "colab": {
          "base_uri": "https://localhost:8080/"
        },
        "id": "CpvbdlK-jVUa",
        "outputId": "693d1509-ae17-49d1-ca7b-e43ceef2205f"
      },
      "source": [
        "y_pred=best_estimator_grid.predict(X_test)\r\n",
        "print(confusion_matrix(y_pred,Y_test))\r\n",
        "print(accuracy_score(y_pred,Y_test))\r\n",
        "print(classification_report(y_pred,Y_test))"
      ],
      "execution_count": 72,
      "outputs": [
        {
          "output_type": "stream",
          "text": [
            "[[ 36  11   2]\n",
            " [ 28  88  49]\n",
            " [ 33 162 589]]\n",
            "0.7144288577154309\n",
            "              precision    recall  f1-score   support\n",
            "\n",
            "   Detractor       0.37      0.73      0.49        49\n",
            "     Passive       0.34      0.53      0.41       165\n",
            "    Promotor       0.92      0.75      0.83       784\n",
            "\n",
            "    accuracy                           0.71       998\n",
            "   macro avg       0.54      0.67      0.58       998\n",
            "weighted avg       0.80      0.71      0.74       998\n",
            "\n"
          ],
          "name": "stdout"
        }
      ]
    },
    {
      "cell_type": "code",
      "metadata": {
        "id": "dGvpAFYk8W7i",
        "colab": {
          "base_uri": "https://localhost:8080/",
          "height": 142
        },
        "outputId": "fdcd6c49-3ecb-4b83-fd5a-e7dedf8f74a6"
      },
      "source": [
        "\r\n",
        "##Dummies for Categorical Variables -- Done\r\n",
        "##VIF and Step Wise Regression -- Done\r\n",
        "##Normalizing the integer variables -- Done\r\n",
        "##Sampling if sensitivity, specificity is less than desired\r\n",
        "##Modelling\r\n",
        "data.corr()"
      ],
      "execution_count": 46,
      "outputs": [
        {
          "output_type": "execute_result",
          "data": {
            "text/html": [
              "<div>\n",
              "<style scoped>\n",
              "    .dataframe tbody tr th:only-of-type {\n",
              "        vertical-align: middle;\n",
              "    }\n",
              "\n",
              "    .dataframe tbody tr th {\n",
              "        vertical-align: top;\n",
              "    }\n",
              "\n",
              "    .dataframe thead th {\n",
              "        text-align: right;\n",
              "    }\n",
              "</style>\n",
              "<table border=\"1\" class=\"dataframe\">\n",
              "  <thead>\n",
              "    <tr style=\"text-align: right;\">\n",
              "      <th></th>\n",
              "      <th>AgeYrs</th>\n",
              "      <th>Estimatedcost</th>\n",
              "      <th>LengthofStay</th>\n",
              "    </tr>\n",
              "  </thead>\n",
              "  <tbody>\n",
              "    <tr>\n",
              "      <th>AgeYrs</th>\n",
              "      <td>1.000000</td>\n",
              "      <td>0.114673</td>\n",
              "      <td>0.043928</td>\n",
              "    </tr>\n",
              "    <tr>\n",
              "      <th>Estimatedcost</th>\n",
              "      <td>0.114673</td>\n",
              "      <td>1.000000</td>\n",
              "      <td>0.302158</td>\n",
              "    </tr>\n",
              "    <tr>\n",
              "      <th>LengthofStay</th>\n",
              "      <td>0.043928</td>\n",
              "      <td>0.302158</td>\n",
              "      <td>1.000000</td>\n",
              "    </tr>\n",
              "  </tbody>\n",
              "</table>\n",
              "</div>"
            ],
            "text/plain": [
              "                 AgeYrs  Estimatedcost  LengthofStay\n",
              "AgeYrs         1.000000       0.114673      0.043928\n",
              "Estimatedcost  0.114673       1.000000      0.302158\n",
              "LengthofStay   0.043928       0.302158      1.000000"
            ]
          },
          "metadata": {
            "tags": []
          },
          "execution_count": 46
        }
      ]
    }
  ]
}